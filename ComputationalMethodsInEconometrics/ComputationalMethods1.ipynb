{
 "cells": [
  {
   "cell_type": "code",
   "execution_count": 89,
   "metadata": {
    "id": "irw6CNLATE9U"
   },
   "outputs": [],
   "source": [
    "import numpy as np\n",
    "import matplotlib.pyplot as plt\n",
    "import pandas as pd\n",
    "import statsmodels.api as sm\n",
    "import seaborn as sns\n",
    "from numpy.linalg import multi_dot\n",
    "from scipy.stats import expon\n"
   ]
  },
  {
   "cell_type": "code",
   "execution_count": null,
   "metadata": {
    "id": "4Wd298hKbjGW"
   },
   "outputs": [],
   "source": [
    "df = pd.read_csv(\"/content/Regressors.txt\", header = None)\n",
    "df.head"
   ]
  },
  {
   "cell_type": "code",
   "execution_count": 91,
   "metadata": {
    "id": "nC9IllrlkJFt"
   },
   "outputs": [],
   "source": [
    "m = np.array(df)\n",
    "m_trans = m.transpose()\n",
    "first_mult = multi_dot([m_trans, m])\n",
    "inverse = np.linalg.inv(first_mult) \n",
    "sec_mult = multi_dot([m, inverse, m_trans])\n",
    "sec_mult.shape\n",
    "identity_matrix = np.identity(100)\n",
    "identity_matrix\n",
    "sub =np.subtract(identity_matrix, sec_mult)"
   ]
  },
  {
   "cell_type": "code",
   "execution_count": null,
   "metadata": {
    "id": "dKGRN-EudtwB"
   },
   "outputs": [],
   "source": [
    "df_y = pd.read_csv(\"/content/Observables.txt\", header = None)\n",
    "df_y.head\n",
    "y_array = np.array(df_y)\n",
    "epsilon = multi_dot([sub, y_array])\n",
    "epsilon[0:5]"
   ]
  },
  {
   "cell_type": "code",
   "execution_count": null,
   "metadata": {
    "id": "00COwHumBJP2"
   },
   "outputs": [],
   "source": [
    "eps_diff = np.diff(epsilon, n=1, axis=0,)\n",
    "eps_sqr = np.square(eps_diff)\n",
    "sum1 = np.sum(eps_sqr, axis=0)\n",
    "sum1\n"
   ]
  },
  {
   "cell_type": "code",
   "execution_count": null,
   "metadata": {
    "id": "GMAwVha1qHjI"
   },
   "outputs": [],
   "source": [
    "eps_den = np.square(epsilon)\n",
    "sum2 = np.sum(eps_den)\n",
    "sum2"
   ]
  },
  {
   "cell_type": "code",
   "execution_count": null,
   "metadata": {
    "id": "dcpaV6GOx2v-"
   },
   "outputs": [],
   "source": [
    "test_statistic = list(sum1/sum2)\n",
    "test_statistic"
   ]
  },
  {
   "cell_type": "code",
   "execution_count": 112,
   "metadata": {
    "id": "KG3h6JNMNdoZ"
   },
   "outputs": [],
   "source": [
    "list_tstats = [test_statistic[0]]\n",
    "for n in range(9999):\n",
    "  #ran_exp = np.random.exponential(1,1000)\n",
    "  ran_exp = np.random.standard_normal(size = 1000)\n",
    "  eps_diff = np.diff(ran_exp, n=1, axis=0,)\n",
    "  eps_sqr1 = np.square(eps_diff)\n",
    "  ep_sqr = np.square(ran_exp)\n",
    "  suma = np.sum(eps_sqr1)\n",
    "  sumb = np.sum(ep_sqr)\n",
    "  t_stat = suma/sumb\n",
    "  list_tstats.append(t_stat)\n",
    "  n = n +1"
   ]
  },
  {
   "cell_type": "code",
   "execution_count": null,
   "metadata": {
    "id": "tdpk-UKclApe"
   },
   "outputs": [],
   "source": [
    "list_tstats.sort()\n",
    "list_tstats[0:5]"
   ]
  },
  {
   "cell_type": "code",
   "execution_count": 114,
   "metadata": {
    "id": "cH0uG2StNY6D"
   },
   "outputs": [],
   "source": [
    "k1 = int((9999+1)*0.1/2 + 1)\n",
    "k2 = int((1-0.1/2)*(9999+1))"
   ]
  },
  {
   "cell_type": "code",
   "execution_count": 115,
   "metadata": {
    "id": "GnWyMeZXO03M"
   },
   "outputs": [],
   "source": [
    "rej_c1 = list_tstats[k1-1]"
   ]
  },
  {
   "cell_type": "code",
   "execution_count": null,
   "metadata": {
    "id": "Gt7N470kQHrp"
   },
   "outputs": [],
   "source": [
    "rej_c2 = list_tstats[k2-1]\n",
    "rej_c2"
   ]
  },
  {
   "cell_type": "code",
   "execution_count": 122,
   "metadata": {
    "id": "-qjfItoSSNIw"
   },
   "outputs": [],
   "source": [
    "def check(list, val):\n",
    "  num = 0\n",
    "  for n in list:\n",
    "    if n <= val:\n",
    "      num = num+1\n",
    "    else:\n",
    "      num = num\n",
    "  return num\n"
   ]
  },
  {
   "cell_type": "code",
   "execution_count": 135,
   "metadata": {
    "colab": {
     "base_uri": "https://localhost:8080/"
    },
    "id": "SK7duSt_RCdv",
    "outputId": "33f62d24-bbd8-435c-c6b0-6cd79b776e89"
   },
   "outputs": [
    {
     "data": {
      "text/plain": [
       "3"
      ]
     },
     "execution_count": 135,
     "metadata": {},
     "output_type": "execute_result"
    }
   ],
   "source": [
    "\n",
    "value = check(list_tstats, test_statistic[0])\n",
    "value"
   ]
  },
  {
   "cell_type": "code",
   "execution_count": 136,
   "metadata": {
    "id": "DPpvaSthUMoO"
   },
   "outputs": [],
   "source": [
    "def check2(list, val):\n",
    "  num = 0\n",
    "  for n in list:\n",
    "    if n >= val:\n",
    "      num = num+1\n",
    "    else:\n",
    "      num = num\n",
    "  return num"
   ]
  },
  {
   "cell_type": "code",
   "execution_count": null,
   "metadata": {
    "id": "nmXH8nzvYa6u"
   },
   "outputs": [],
   "source": [
    "value2 = check2(list_tstats, test_statistic[0])\n",
    "value2"
   ]
  },
  {
   "cell_type": "code",
   "execution_count": null,
   "metadata": {
    "id": "4DdZMa7kYipK"
   },
   "outputs": [],
   "source": [
    "p_value = 2 *min((value/10000, value2/9999))\n",
    "p_value"
   ]
  },
  {
   "cell_type": "code",
   "execution_count": null,
   "metadata": {
    "id": "YkeUEcO6ZVm-"
   },
   "outputs": [],
   "source": []
  }
 ],
 "metadata": {
  "colab": {
   "name": "ComputationalMethods1.ipynb",
   "provenance": []
  },
  "kernelspec": {
   "display_name": "Python 3",
   "language": "python",
   "name": "python3"
  },
  "language_info": {
   "codemirror_mode": {
    "name": "ipython",
    "version": 3
   },
   "file_extension": ".py",
   "mimetype": "text/x-python",
   "name": "python",
   "nbconvert_exporter": "python",
   "pygments_lexer": "ipython3",
   "version": "3.8.8"
  }
 },
 "nbformat": 4,
 "nbformat_minor": 4
}
