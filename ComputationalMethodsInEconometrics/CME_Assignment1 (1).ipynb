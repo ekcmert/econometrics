{
 "cells": [
  {
   "cell_type": "code",
   "execution_count": 47,
   "metadata": {
    "id": "irw6CNLATE9U"
   },
   "outputs": [],
   "source": [
    "import numpy as np\n",
    "import matplotlib.pyplot as plt\n",
    "import pandas as pd\n",
    "import statsmodels.api as sm\n",
    "import seaborn as sns\n",
    "from numpy.linalg import multi_dot\n",
    "from scipy.stats import expon\n"
   ]
  },
  {
   "cell_type": "code",
   "execution_count": 48,
   "metadata": {
    "colab": {
     "base_uri": "https://localhost:8080/"
    },
    "id": "4Wd298hKbjGW",
    "outputId": "18ca70bc-6b24-4153-d4d3-f7efa7303b0d"
   },
   "outputs": [
    {
     "data": {
      "text/plain": [
       "<bound method NDFrame.head of     0         1        2        3  ...        5         6         7        8\n",
       "0   1 -0.637280 -2.53690  1.00570  ...  0.74296 -0.900550 -0.385430 -1.01310\n",
       "1   1  0.329080 -0.87360  1.51210  ...  0.49154  0.862480 -0.053105  1.00120\n",
       "2   1  0.369910 -1.05260 -0.76142  ... -0.21182 -0.064187 -0.133520  0.62344\n",
       "3   1 -0.536420  1.20020  0.31715  ... -0.29137 -1.168800  0.010371 -0.55335\n",
       "4   1  0.750650 -0.23990 -0.48102  ...  0.84527 -0.965980 -0.795350  0.65267\n",
       ".. ..       ...      ...      ...  ...      ...       ...       ...      ...\n",
       "95  1  0.778860 -0.77748  0.35712  ... -0.35897 -1.420100  0.853770  0.42224\n",
       "96  1 -0.735240 -1.16190 -1.21380  ...  0.24747 -1.406300 -1.143000 -1.37200\n",
       "97  1 -0.974290  1.54520 -0.12210  ...  2.66050  0.915620 -1.017000  0.96036\n",
       "98  1 -0.018074 -1.40830  0.87636  ... -0.91976  0.754050  0.013707 -0.62020\n",
       "99  1  1.663100 -0.26624  0.07666  ... -3.03220 -0.145520  0.448210 -0.51953\n",
       "\n",
       "[100 rows x 9 columns]>"
      ]
     },
     "execution_count": 48,
     "metadata": {},
     "output_type": "execute_result"
    }
   ],
   "source": [
    "#Reading Regressors.txt\n",
    "df = pd.read_csv(\"Regressors.txt\", header = None)\n",
    "df.head"
   ]
  },
  {
   "cell_type": "code",
   "execution_count": 49,
   "metadata": {
    "id": "dKGRN-EudtwB",
    "tags": []
   },
   "outputs": [],
   "source": [
    "#Reading Observables.txt\n",
    "df_y = pd.read_csv(\"Observables.txt\", header = None)\n",
    "df_y.head()\n",
    "y_array = np.array(df_y)\n"
   ]
  },
  {
   "cell_type": "code",
   "execution_count": 50,
   "metadata": {
    "colab": {
     "base_uri": "https://localhost:8080/"
    },
    "id": "nC9IllrlkJFt",
    "outputId": "6e859154-669a-4669-9bad-77116f7b3545"
   },
   "outputs": [
    {
     "data": {
      "text/plain": [
       "array([[-1.94852220e-01],\n",
       "       [ 1.72042305e+00],\n",
       "       [ 2.63451544e+00],\n",
       "       [-8.03040879e-01],\n",
       "       [-2.92266812e-01],\n",
       "       [ 8.25102712e-01],\n",
       "       [ 2.81847042e+00],\n",
       "       [-2.05363896e+00],\n",
       "       [-5.40266864e-01],\n",
       "       [ 2.87600740e-01],\n",
       "       [ 1.75601661e+00],\n",
       "       [ 1.30787704e+00],\n",
       "       [ 6.73171122e-01],\n",
       "       [ 3.79998055e-01],\n",
       "       [ 8.58296227e-01],\n",
       "       [ 4.47623874e-01],\n",
       "       [-8.92123116e-01],\n",
       "       [-1.20760758e+00],\n",
       "       [ 1.82435791e+00],\n",
       "       [ 2.00439531e+00],\n",
       "       [-1.24199264e+00],\n",
       "       [-3.63540721e-01],\n",
       "       [-1.64964896e+00],\n",
       "       [ 1.48863152e+00],\n",
       "       [-3.16597254e-01],\n",
       "       [-1.36671477e-02],\n",
       "       [-8.24819159e-02],\n",
       "       [-1.00112155e+00],\n",
       "       [ 7.21221941e-01],\n",
       "       [-5.95253364e-01],\n",
       "       [ 1.12453599e-01],\n",
       "       [ 3.46162563e-01],\n",
       "       [-5.25655727e-01],\n",
       "       [-1.33624176e+00],\n",
       "       [ 8.53864143e-01],\n",
       "       [-7.45330655e-01],\n",
       "       [-1.03828372e+00],\n",
       "       [-4.01300431e-01],\n",
       "       [-8.02028825e-01],\n",
       "       [ 1.26691190e+00],\n",
       "       [ 1.11236284e+00],\n",
       "       [ 2.31628325e-01],\n",
       "       [-3.85130842e-01],\n",
       "       [ 1.90774197e+00],\n",
       "       [-2.58116116e-02],\n",
       "       [-1.16821862e+00],\n",
       "       [-3.24505777e-01],\n",
       "       [-8.67323760e-01],\n",
       "       [-1.07180942e+00],\n",
       "       [-4.89297564e-01],\n",
       "       [ 4.12150588e-01],\n",
       "       [ 7.61770465e-01],\n",
       "       [-3.33209863e-01],\n",
       "       [-2.05530486e-01],\n",
       "       [-8.60476319e-01],\n",
       "       [-1.21012226e+00],\n",
       "       [-1.18992444e+00],\n",
       "       [-1.29316092e+00],\n",
       "       [ 5.33323992e-01],\n",
       "       [ 1.08702578e+00],\n",
       "       [ 1.39688805e+00],\n",
       "       [-2.06221490e-01],\n",
       "       [ 1.98299599e-03],\n",
       "       [-9.49561601e-01],\n",
       "       [-1.17086295e-01],\n",
       "       [-1.34358838e+00],\n",
       "       [-1.57358019e+00],\n",
       "       [ 5.24170178e-01],\n",
       "       [ 1.30667792e+00],\n",
       "       [-8.35426158e-01],\n",
       "       [ 7.08790557e-02],\n",
       "       [-4.91936126e-01],\n",
       "       [-8.39094013e-01],\n",
       "       [ 1.32134267e-01],\n",
       "       [-6.68756204e-01],\n",
       "       [-1.96448506e-01],\n",
       "       [-9.70314103e-01],\n",
       "       [-1.21073832e+00],\n",
       "       [-7.93451216e-01],\n",
       "       [ 1.84388177e+00],\n",
       "       [-1.81275862e-01],\n",
       "       [-2.05253892e-01],\n",
       "       [-1.63061733e-01],\n",
       "       [-1.25299027e+00],\n",
       "       [-1.69976844e+00],\n",
       "       [ 2.00065169e+00],\n",
       "       [ 6.36089796e-01],\n",
       "       [ 1.17497057e+00],\n",
       "       [-1.11475507e-01],\n",
       "       [ 1.29871951e+00],\n",
       "       [ 1.25622791e+00],\n",
       "       [ 2.54659364e-01],\n",
       "       [-8.63103737e-01],\n",
       "       [ 4.34656294e-01],\n",
       "       [-1.29375065e+00],\n",
       "       [ 1.55354141e-01],\n",
       "       [-1.73950932e-01],\n",
       "       [-8.70213521e-01],\n",
       "       [ 1.05915038e+00],\n",
       "       [ 6.12318145e-01]])"
      ]
     },
     "execution_count": 50,
     "metadata": {},
     "output_type": "execute_result"
    }
   ],
   "source": [
    "#(I-X(X'X)^-1-X')y\n",
    "m = np.array(df)\n",
    "m_trans = m.transpose()\n",
    "first_mult = multi_dot([m_trans, m])\n",
    "inverse = np.linalg.inv(first_mult) \n",
    "sec_mult = multi_dot([m, inverse, m_trans])\n",
    "sec_mult.shape\n",
    "identity_matrix = np.identity(100)\n",
    "identity_matrix\n",
    "sub =np.subtract(identity_matrix, sec_mult)\n",
    "epsilon = multi_dot([sub, y_array])\n",
    "epsilon\n"
   ]
  },
  {
   "cell_type": "code",
   "execution_count": 51,
   "metadata": {
    "colab": {
     "base_uri": "https://localhost:8080/"
    },
    "id": "00COwHumBJP2",
    "outputId": "3e755a6a-fe51-47c0-dd53-a7731485deaf"
   },
   "outputs": [
    {
     "data": {
      "text/plain": [
       "array([192.91561707])"
      ]
     },
     "execution_count": 51,
     "metadata": {},
     "output_type": "execute_result"
    }
   ],
   "source": [
    "# sum (e(t) - e(t-1))^2\n",
    "eps_diff = np.diff(epsilon, n=1, axis=0,)\n",
    "eps_sqr = np.square(eps_diff)\n",
    "sum1 = np.sum(eps_sqr, axis=0)\n",
    "sum1\n"
   ]
  },
  {
   "cell_type": "code",
   "execution_count": 52,
   "metadata": {
    "colab": {
     "base_uri": "https://localhost:8080/"
    },
    "id": "GMAwVha1qHjI",
    "outputId": "a39af0f6-fbd0-4dd0-934d-4604128ae5c8"
   },
   "outputs": [
    {
     "data": {
      "text/plain": [
       "107.72268508774314"
      ]
     },
     "execution_count": 52,
     "metadata": {},
     "output_type": "execute_result"
    }
   ],
   "source": [
    "eps_den = np.square(epsilon[:-1])\n",
    "sum2 = np.sum(eps_den)\n",
    "sum2"
   ]
  },
  {
   "cell_type": "code",
   "execution_count": 53,
   "metadata": {
    "colab": {
     "base_uri": "https://localhost:8080/"
    },
    "id": "dcpaV6GOx2v-",
    "outputId": "1e33825f-c676-4024-e046-47eaf51d66a1"
   },
   "outputs": [
    {
     "data": {
      "text/plain": [
       "[1.7908541447664765]"
      ]
     },
     "execution_count": 53,
     "metadata": {},
     "output_type": "execute_result"
    }
   ],
   "source": [
    "test_statistic = list(sum1/sum2)\n",
    "test_statistic"
   ]
  },
  {
   "cell_type": "code",
   "execution_count": 54,
   "metadata": {
    "id": "KG3h6JNMNdoZ"
   },
   "outputs": [],
   "source": [
    "#Monte Carlo Test\n",
    "list_tstats = [test_statistic[0]]\n",
    "for n in range(9999):\n",
    "  #I made it 100 instead of 1000 because our sample size 100 (100 data points) and the size affects the measurement Durbin-Watson statistics, now results make sense\n",
    "  ran_exp = np.random.standard_normal(size = 100)\n",
    "  eps_diff = np.diff(ran_exp, n=1, axis=0,)\n",
    "  eps_sqr1 = np.square(eps_diff)\n",
    "  ep_sqr = np.square(ran_exp)\n",
    "  suma = np.sum(eps_sqr1)\n",
    "  sumb = np.sum(ep_sqr)\n",
    "  t_stat = suma/sumb\n",
    "  list_tstats.append(t_stat)\n",
    "\n",
    "\n"
   ]
  },
  {
   "cell_type": "code",
   "execution_count": 55,
   "metadata": {
    "colab": {
     "base_uri": "https://localhost:8080/"
    },
    "id": "tdpk-UKclApe",
    "outputId": "2f466bbe-4d36-47fb-ba7b-a56f84a1719e"
   },
   "outputs": [
    {
     "data": {
      "text/plain": [
       "[2.625426703327039,\n",
       " 2.6333814786681504,\n",
       " 2.640701570202458,\n",
       " 2.6446999268896625,\n",
       " 2.679834526695033]"
      ]
     },
     "execution_count": 55,
     "metadata": {},
     "output_type": "execute_result"
    }
   ],
   "source": [
    "#rank the simulated data\n",
    "list_tstats.sort()\n",
    "list_tstats[0:5]\n",
    "list_tstats[-5:]"
   ]
  },
  {
   "cell_type": "code",
   "execution_count": 56,
   "metadata": {
    "id": "cH0uG2StNY6D"
   },
   "outputs": [],
   "source": [
    "k1 = int((9999+1)*(0.1/2) + 1)\n",
    "k2 = int((1-0.1/2)*(9999+1))"
   ]
  },
  {
   "cell_type": "raw",
   "metadata": {
    "colab": {
     "base_uri": "https://localhost:8080/"
    },
    "id": "GnWyMeZXO03M",
    "outputId": "8513b678-dacd-45f8-b705-ca039962394d"
   },
   "source": [
    "rej_c1 = list_tstats[k1-1]\n",
    "rej_c1"
   ]
  },
  {
   "cell_type": "code",
   "execution_count": 58,
   "metadata": {
    "colab": {
     "base_uri": "https://localhost:8080/"
    },
    "id": "Gt7N470kQHrp",
    "outputId": "6ec9fcdb-6318-4b0f-85fe-33e996f27aff"
   },
   "outputs": [
    {
     "data": {
      "text/plain": [
       "2.301515126522506"
      ]
     },
     "execution_count": 58,
     "metadata": {},
     "output_type": "execute_result"
    }
   ],
   "source": [
    "rej_c2 = list_tstats[k2-1]\n",
    "rej_c2"
   ]
  },
  {
   "cell_type": "code",
   "execution_count": 59,
   "metadata": {
    "colab": {
     "base_uri": "https://localhost:8080/"
    },
    "id": "rc0IXjc4l7og",
    "outputId": "d43b28d0-587e-41ff-d157-9d7917ce8107"
   },
   "outputs": [
    {
     "name": "stdout",
     "output_type": "stream",
     "text": [
      "1.6554690338114069   2.301515126522506\n",
      "[1.7908541447664765]\n"
     ]
    }
   ],
   "source": [
    "print(rej_c1,\" \",rej_c2)\n",
    "print(test_statistic)"
   ]
  },
  {
   "cell_type": "code",
   "execution_count": 60,
   "metadata": {
    "id": "-qjfItoSSNIw"
   },
   "outputs": [],
   "source": [
    "def check(list, val):\n",
    "  num = 0\n",
    "  for n in list:\n",
    "    if n <= val:\n",
    "      num = num+1\n",
    "    else:\n",
    "      num = num\n",
    "  return num\n"
   ]
  },
  {
   "cell_type": "code",
   "execution_count": 61,
   "metadata": {
    "colab": {
     "base_uri": "https://localhost:8080/"
    },
    "id": "SK7duSt_RCdv",
    "outputId": "79f07c36-4e6a-42b7-d972-263934b6f797"
   },
   "outputs": [
    {
     "data": {
      "text/plain": [
       "1714"
      ]
     },
     "execution_count": 61,
     "metadata": {},
     "output_type": "execute_result"
    }
   ],
   "source": [
    "value = check(list_tstats, test_statistic[0])\n",
    "value"
   ]
  },
  {
   "cell_type": "code",
   "execution_count": 62,
   "metadata": {
    "id": "DPpvaSthUMoO"
   },
   "outputs": [],
   "source": [
    "def check2(list, val):\n",
    "  num = 0\n",
    "  for n in list:\n",
    "    if n >= val:\n",
    "      num = num+1\n",
    "    else:\n",
    "      num = num\n",
    "  return num"
   ]
  },
  {
   "cell_type": "code",
   "execution_count": 63,
   "metadata": {
    "colab": {
     "base_uri": "https://localhost:8080/"
    },
    "id": "nmXH8nzvYa6u",
    "outputId": "47bdaf9a-8d38-48f5-bd5c-d1d7732dc980"
   },
   "outputs": [
    {
     "data": {
      "text/plain": [
       "8287"
      ]
     },
     "execution_count": 63,
     "metadata": {},
     "output_type": "execute_result"
    }
   ],
   "source": [
    "value2 = check2(list_tstats, test_statistic[0])\n",
    "value2"
   ]
  },
  {
   "cell_type": "code",
   "execution_count": 64,
   "metadata": {
    "colab": {
     "base_uri": "https://localhost:8080/"
    },
    "id": "4DdZMa7kYipK",
    "outputId": "196e1fbc-4222-4424-f0dc-4fa617d4a5e0"
   },
   "outputs": [
    {
     "data": {
      "text/plain": [
       "0.3428"
      ]
     },
     "execution_count": 64,
     "metadata": {},
     "output_type": "execute_result"
    }
   ],
   "source": [
    "#Both denominators must be 10000\n",
    "p_value = 2 *min([value/10000, value2/10000])\n",
    "p_value"
   ]
  },
  {
   "cell_type": "markdown",
   "metadata": {
    "id": "YkeUEcO6ZVm-"
   },
   "source": [
    "## Part C"
   ]
  },
  {
   "cell_type": "code",
   "execution_count": 65,
   "metadata": {
    "colab": {
     "base_uri": "https://localhost:8080/",
     "height": 255
    },
    "id": "K8ZQaNQpl7os",
    "outputId": "a574b496-eb02-42b3-f3ee-75925acf10a9",
    "tags": []
   },
   "outputs": [
    {
     "data": {
      "text/html": [
       "<div>\n",
       "<style scoped>\n",
       "    .dataframe tbody tr th:only-of-type {\n",
       "        vertical-align: middle;\n",
       "    }\n",
       "\n",
       "    .dataframe tbody tr th {\n",
       "        vertical-align: top;\n",
       "    }\n",
       "\n",
       "    .dataframe thead th {\n",
       "        text-align: right;\n",
       "    }\n",
       "</style>\n",
       "<table border=\"1\" class=\"dataframe\">\n",
       "  <thead>\n",
       "    <tr style=\"text-align: right;\">\n",
       "      <th></th>\n",
       "      <th>0</th>\n",
       "      <th>1</th>\n",
       "      <th>2</th>\n",
       "      <th>3</th>\n",
       "      <th>4</th>\n",
       "      <th>5</th>\n",
       "      <th>6</th>\n",
       "      <th>7</th>\n",
       "      <th>8</th>\n",
       "      <th>9</th>\n",
       "      <th>10</th>\n",
       "      <th>11</th>\n",
       "      <th>12</th>\n",
       "      <th>13</th>\n",
       "      <th>14</th>\n",
       "      <th>15</th>\n",
       "      <th>16</th>\n",
       "      <th>17</th>\n",
       "      <th>18</th>\n",
       "      <th>19</th>\n",
       "      <th>20</th>\n",
       "      <th>21</th>\n",
       "      <th>22</th>\n",
       "      <th>23</th>\n",
       "      <th>24</th>\n",
       "      <th>25</th>\n",
       "      <th>26</th>\n",
       "      <th>27</th>\n",
       "      <th>28</th>\n",
       "      <th>29</th>\n",
       "      <th>30</th>\n",
       "      <th>31</th>\n",
       "      <th>32</th>\n",
       "      <th>33</th>\n",
       "      <th>34</th>\n",
       "      <th>35</th>\n",
       "      <th>36</th>\n",
       "      <th>37</th>\n",
       "      <th>38</th>\n",
       "      <th>39</th>\n",
       "      <th>...</th>\n",
       "      <th>9960</th>\n",
       "      <th>9961</th>\n",
       "      <th>9962</th>\n",
       "      <th>9963</th>\n",
       "      <th>9964</th>\n",
       "      <th>9965</th>\n",
       "      <th>9966</th>\n",
       "      <th>9967</th>\n",
       "      <th>9968</th>\n",
       "      <th>9969</th>\n",
       "      <th>9970</th>\n",
       "      <th>9971</th>\n",
       "      <th>9972</th>\n",
       "      <th>9973</th>\n",
       "      <th>9974</th>\n",
       "      <th>9975</th>\n",
       "      <th>9976</th>\n",
       "      <th>9977</th>\n",
       "      <th>9978</th>\n",
       "      <th>9979</th>\n",
       "      <th>9980</th>\n",
       "      <th>9981</th>\n",
       "      <th>9982</th>\n",
       "      <th>9983</th>\n",
       "      <th>9984</th>\n",
       "      <th>9985</th>\n",
       "      <th>9986</th>\n",
       "      <th>9987</th>\n",
       "      <th>9988</th>\n",
       "      <th>9989</th>\n",
       "      <th>9990</th>\n",
       "      <th>9991</th>\n",
       "      <th>9992</th>\n",
       "      <th>9993</th>\n",
       "      <th>9994</th>\n",
       "      <th>9995</th>\n",
       "      <th>9996</th>\n",
       "      <th>9997</th>\n",
       "      <th>9998</th>\n",
       "      <th>9999</th>\n",
       "    </tr>\n",
       "  </thead>\n",
       "  <tbody>\n",
       "    <tr>\n",
       "      <th>0</th>\n",
       "      <td>-0.62792</td>\n",
       "      <td>-0.24685</td>\n",
       "      <td>0.257740</td>\n",
       "      <td>-1.66090</td>\n",
       "      <td>-0.47635</td>\n",
       "      <td>-1.11590</td>\n",
       "      <td>-2.08230</td>\n",
       "      <td>-1.80800</td>\n",
       "      <td>1.17990</td>\n",
       "      <td>-1.11960</td>\n",
       "      <td>0.48175</td>\n",
       "      <td>-0.67854</td>\n",
       "      <td>-1.27570</td>\n",
       "      <td>0.037071</td>\n",
       "      <td>1.05500</td>\n",
       "      <td>-2.37350</td>\n",
       "      <td>0.037833</td>\n",
       "      <td>-0.39659</td>\n",
       "      <td>1.35980</td>\n",
       "      <td>-0.40209</td>\n",
       "      <td>0.913340</td>\n",
       "      <td>-1.280600</td>\n",
       "      <td>0.98981</td>\n",
       "      <td>0.50423</td>\n",
       "      <td>-0.98986</td>\n",
       "      <td>-0.15408</td>\n",
       "      <td>-1.11310</td>\n",
       "      <td>-2.18270</td>\n",
       "      <td>0.42593</td>\n",
       "      <td>-2.516600</td>\n",
       "      <td>0.21081</td>\n",
       "      <td>-1.76250</td>\n",
       "      <td>-0.62526</td>\n",
       "      <td>0.56285</td>\n",
       "      <td>0.420430</td>\n",
       "      <td>0.550320</td>\n",
       "      <td>-1.272000</td>\n",
       "      <td>0.214790</td>\n",
       "      <td>-1.52930</td>\n",
       "      <td>-1.78570</td>\n",
       "      <td>...</td>\n",
       "      <td>0.401270</td>\n",
       "      <td>0.65703</td>\n",
       "      <td>-1.57650</td>\n",
       "      <td>0.26412</td>\n",
       "      <td>-0.55309</td>\n",
       "      <td>-0.23669</td>\n",
       "      <td>-0.26533</td>\n",
       "      <td>-0.88291</td>\n",
       "      <td>-1.86140</td>\n",
       "      <td>-0.478620</td>\n",
       "      <td>-0.046582</td>\n",
       "      <td>0.21400</td>\n",
       "      <td>1.21700</td>\n",
       "      <td>-1.42370</td>\n",
       "      <td>-0.897930</td>\n",
       "      <td>-1.841700</td>\n",
       "      <td>-0.680820</td>\n",
       "      <td>1.31460</td>\n",
       "      <td>0.021599</td>\n",
       "      <td>-2.06930</td>\n",
       "      <td>-0.306510</td>\n",
       "      <td>-1.09370</td>\n",
       "      <td>-2.77060</td>\n",
       "      <td>-1.43940</td>\n",
       "      <td>-0.53657</td>\n",
       "      <td>-1.03330</td>\n",
       "      <td>-1.383500</td>\n",
       "      <td>-1.19920</td>\n",
       "      <td>0.321470</td>\n",
       "      <td>0.41930</td>\n",
       "      <td>-0.574400</td>\n",
       "      <td>-0.65947</td>\n",
       "      <td>1.61390</td>\n",
       "      <td>-0.897910</td>\n",
       "      <td>-0.52626</td>\n",
       "      <td>-1.36490</td>\n",
       "      <td>-1.274500</td>\n",
       "      <td>-2.260300</td>\n",
       "      <td>-0.91631</td>\n",
       "      <td>-0.303750</td>\n",
       "    </tr>\n",
       "    <tr>\n",
       "      <th>1</th>\n",
       "      <td>1.38720</td>\n",
       "      <td>0.58790</td>\n",
       "      <td>-1.174900</td>\n",
       "      <td>0.13679</td>\n",
       "      <td>-1.84960</td>\n",
       "      <td>-0.59578</td>\n",
       "      <td>-0.26431</td>\n",
       "      <td>1.07710</td>\n",
       "      <td>1.01380</td>\n",
       "      <td>0.48220</td>\n",
       "      <td>-0.31815</td>\n",
       "      <td>-1.24950</td>\n",
       "      <td>-0.40086</td>\n",
       "      <td>-0.765230</td>\n",
       "      <td>-0.34760</td>\n",
       "      <td>0.83993</td>\n",
       "      <td>-0.992750</td>\n",
       "      <td>0.23665</td>\n",
       "      <td>0.52186</td>\n",
       "      <td>-0.24556</td>\n",
       "      <td>-0.052441</td>\n",
       "      <td>-0.061019</td>\n",
       "      <td>-0.71545</td>\n",
       "      <td>-0.15051</td>\n",
       "      <td>-0.96491</td>\n",
       "      <td>-1.10580</td>\n",
       "      <td>-0.31657</td>\n",
       "      <td>0.33082</td>\n",
       "      <td>-0.80673</td>\n",
       "      <td>-0.027455</td>\n",
       "      <td>-0.91155</td>\n",
       "      <td>0.97031</td>\n",
       "      <td>1.46700</td>\n",
       "      <td>-1.66200</td>\n",
       "      <td>-1.556500</td>\n",
       "      <td>-1.576600</td>\n",
       "      <td>0.374200</td>\n",
       "      <td>-1.006700</td>\n",
       "      <td>0.78580</td>\n",
       "      <td>-0.90509</td>\n",
       "      <td>...</td>\n",
       "      <td>0.146970</td>\n",
       "      <td>-0.45322</td>\n",
       "      <td>1.22510</td>\n",
       "      <td>1.78850</td>\n",
       "      <td>-0.52633</td>\n",
       "      <td>0.52794</td>\n",
       "      <td>0.57792</td>\n",
       "      <td>-0.37415</td>\n",
       "      <td>1.77960</td>\n",
       "      <td>0.951180</td>\n",
       "      <td>-0.826920</td>\n",
       "      <td>-0.67055</td>\n",
       "      <td>-0.25470</td>\n",
       "      <td>-2.12020</td>\n",
       "      <td>0.091345</td>\n",
       "      <td>-0.074959</td>\n",
       "      <td>-0.363810</td>\n",
       "      <td>0.20969</td>\n",
       "      <td>-1.763700</td>\n",
       "      <td>-0.65442</td>\n",
       "      <td>-0.235580</td>\n",
       "      <td>-0.67057</td>\n",
       "      <td>-0.36307</td>\n",
       "      <td>-1.16640</td>\n",
       "      <td>-1.05440</td>\n",
       "      <td>0.17899</td>\n",
       "      <td>-1.453100</td>\n",
       "      <td>-0.89240</td>\n",
       "      <td>-0.459560</td>\n",
       "      <td>-1.67450</td>\n",
       "      <td>0.661720</td>\n",
       "      <td>-1.48890</td>\n",
       "      <td>0.40876</td>\n",
       "      <td>0.157520</td>\n",
       "      <td>-1.18770</td>\n",
       "      <td>-0.91731</td>\n",
       "      <td>-1.830700</td>\n",
       "      <td>-0.062291</td>\n",
       "      <td>-0.70922</td>\n",
       "      <td>0.787200</td>\n",
       "    </tr>\n",
       "    <tr>\n",
       "      <th>2</th>\n",
       "      <td>2.20110</td>\n",
       "      <td>-0.43099</td>\n",
       "      <td>-0.026149</td>\n",
       "      <td>0.44379</td>\n",
       "      <td>1.19560</td>\n",
       "      <td>0.42235</td>\n",
       "      <td>-0.30351</td>\n",
       "      <td>-1.13260</td>\n",
       "      <td>0.22418</td>\n",
       "      <td>0.49966</td>\n",
       "      <td>-0.70172</td>\n",
       "      <td>-2.37990</td>\n",
       "      <td>0.33363</td>\n",
       "      <td>0.411320</td>\n",
       "      <td>0.84880</td>\n",
       "      <td>-2.07210</td>\n",
       "      <td>0.663290</td>\n",
       "      <td>0.12283</td>\n",
       "      <td>1.69490</td>\n",
       "      <td>-0.20957</td>\n",
       "      <td>0.184540</td>\n",
       "      <td>1.031500</td>\n",
       "      <td>0.33449</td>\n",
       "      <td>-1.91550</td>\n",
       "      <td>-1.29580</td>\n",
       "      <td>-2.01410</td>\n",
       "      <td>-0.47632</td>\n",
       "      <td>1.17550</td>\n",
       "      <td>-1.18170</td>\n",
       "      <td>0.982100</td>\n",
       "      <td>1.61230</td>\n",
       "      <td>1.29550</td>\n",
       "      <td>-0.94170</td>\n",
       "      <td>-0.57267</td>\n",
       "      <td>0.032398</td>\n",
       "      <td>0.093877</td>\n",
       "      <td>-0.021064</td>\n",
       "      <td>1.600700</td>\n",
       "      <td>-0.42249</td>\n",
       "      <td>-1.79090</td>\n",
       "      <td>...</td>\n",
       "      <td>-0.978810</td>\n",
       "      <td>1.20540</td>\n",
       "      <td>-0.21347</td>\n",
       "      <td>-1.45890</td>\n",
       "      <td>-0.46411</td>\n",
       "      <td>-3.03390</td>\n",
       "      <td>-1.43240</td>\n",
       "      <td>-0.92275</td>\n",
       "      <td>0.90932</td>\n",
       "      <td>-0.012546</td>\n",
       "      <td>-0.190940</td>\n",
       "      <td>-1.36340</td>\n",
       "      <td>2.10560</td>\n",
       "      <td>-0.24746</td>\n",
       "      <td>-0.882770</td>\n",
       "      <td>-0.208110</td>\n",
       "      <td>1.548500</td>\n",
       "      <td>-0.84247</td>\n",
       "      <td>0.650140</td>\n",
       "      <td>-0.10475</td>\n",
       "      <td>-2.394900</td>\n",
       "      <td>0.75807</td>\n",
       "      <td>-1.40760</td>\n",
       "      <td>1.20900</td>\n",
       "      <td>0.60336</td>\n",
       "      <td>1.03520</td>\n",
       "      <td>-1.355200</td>\n",
       "      <td>0.38104</td>\n",
       "      <td>-1.006100</td>\n",
       "      <td>0.12119</td>\n",
       "      <td>-0.037405</td>\n",
       "      <td>0.77088</td>\n",
       "      <td>-1.06980</td>\n",
       "      <td>2.186100</td>\n",
       "      <td>1.02760</td>\n",
       "      <td>0.97215</td>\n",
       "      <td>0.804750</td>\n",
       "      <td>-0.799210</td>\n",
       "      <td>0.77229</td>\n",
       "      <td>1.481000</td>\n",
       "    </tr>\n",
       "    <tr>\n",
       "      <th>3</th>\n",
       "      <td>-1.19320</td>\n",
       "      <td>1.24200</td>\n",
       "      <td>0.258260</td>\n",
       "      <td>1.48780</td>\n",
       "      <td>0.69618</td>\n",
       "      <td>-1.04460</td>\n",
       "      <td>-0.64679</td>\n",
       "      <td>-1.42940</td>\n",
       "      <td>-0.11541</td>\n",
       "      <td>-1.07190</td>\n",
       "      <td>-0.88992</td>\n",
       "      <td>-2.05290</td>\n",
       "      <td>0.61045</td>\n",
       "      <td>0.685880</td>\n",
       "      <td>-0.82170</td>\n",
       "      <td>-1.39460</td>\n",
       "      <td>-0.340230</td>\n",
       "      <td>0.11472</td>\n",
       "      <td>-1.79830</td>\n",
       "      <td>0.51816</td>\n",
       "      <td>-1.227400</td>\n",
       "      <td>-0.627860</td>\n",
       "      <td>-1.98050</td>\n",
       "      <td>-0.53659</td>\n",
       "      <td>0.82022</td>\n",
       "      <td>-1.28550</td>\n",
       "      <td>-0.18785</td>\n",
       "      <td>-0.66317</td>\n",
       "      <td>-0.82253</td>\n",
       "      <td>-0.062926</td>\n",
       "      <td>1.06380</td>\n",
       "      <td>0.73375</td>\n",
       "      <td>-2.54740</td>\n",
       "      <td>-2.32490</td>\n",
       "      <td>-1.091100</td>\n",
       "      <td>-1.546200</td>\n",
       "      <td>-0.596780</td>\n",
       "      <td>-0.219940</td>\n",
       "      <td>-2.84450</td>\n",
       "      <td>0.26861</td>\n",
       "      <td>...</td>\n",
       "      <td>-0.048599</td>\n",
       "      <td>-1.95640</td>\n",
       "      <td>-0.82907</td>\n",
       "      <td>-0.72639</td>\n",
       "      <td>1.22060</td>\n",
       "      <td>1.49040</td>\n",
       "      <td>-1.99640</td>\n",
       "      <td>-0.90021</td>\n",
       "      <td>-0.09871</td>\n",
       "      <td>-0.511030</td>\n",
       "      <td>2.120500</td>\n",
       "      <td>-1.58680</td>\n",
       "      <td>-0.52104</td>\n",
       "      <td>-0.39895</td>\n",
       "      <td>-1.222600</td>\n",
       "      <td>-1.019800</td>\n",
       "      <td>1.670700</td>\n",
       "      <td>-0.17398</td>\n",
       "      <td>-0.785420</td>\n",
       "      <td>2.39570</td>\n",
       "      <td>-0.085546</td>\n",
       "      <td>-1.66930</td>\n",
       "      <td>2.60030</td>\n",
       "      <td>-0.15321</td>\n",
       "      <td>-0.72681</td>\n",
       "      <td>0.41847</td>\n",
       "      <td>-0.027018</td>\n",
       "      <td>-0.72439</td>\n",
       "      <td>-0.063239</td>\n",
       "      <td>0.24325</td>\n",
       "      <td>-1.433600</td>\n",
       "      <td>0.18135</td>\n",
       "      <td>0.51026</td>\n",
       "      <td>0.086533</td>\n",
       "      <td>-1.37540</td>\n",
       "      <td>-1.14550</td>\n",
       "      <td>-2.642300</td>\n",
       "      <td>-0.384730</td>\n",
       "      <td>0.77222</td>\n",
       "      <td>-0.008419</td>\n",
       "    </tr>\n",
       "    <tr>\n",
       "      <th>4</th>\n",
       "      <td>-0.74989</td>\n",
       "      <td>1.76020</td>\n",
       "      <td>-0.442110</td>\n",
       "      <td>-1.68450</td>\n",
       "      <td>0.13206</td>\n",
       "      <td>-1.10050</td>\n",
       "      <td>-2.18150</td>\n",
       "      <td>-0.65405</td>\n",
       "      <td>-0.97755</td>\n",
       "      <td>-0.49721</td>\n",
       "      <td>0.47525</td>\n",
       "      <td>0.29390</td>\n",
       "      <td>-0.77628</td>\n",
       "      <td>1.249700</td>\n",
       "      <td>-0.23502</td>\n",
       "      <td>-0.62788</td>\n",
       "      <td>-2.882500</td>\n",
       "      <td>-0.87602</td>\n",
       "      <td>1.02540</td>\n",
       "      <td>-2.18670</td>\n",
       "      <td>-0.611910</td>\n",
       "      <td>-1.241800</td>\n",
       "      <td>0.35059</td>\n",
       "      <td>-1.47040</td>\n",
       "      <td>-1.58930</td>\n",
       "      <td>-1.01070</td>\n",
       "      <td>0.53050</td>\n",
       "      <td>-1.41770</td>\n",
       "      <td>-2.09830</td>\n",
       "      <td>0.298590</td>\n",
       "      <td>0.22370</td>\n",
       "      <td>-0.12858</td>\n",
       "      <td>-2.37410</td>\n",
       "      <td>-1.02550</td>\n",
       "      <td>-0.131160</td>\n",
       "      <td>0.454360</td>\n",
       "      <td>0.539740</td>\n",
       "      <td>-0.046699</td>\n",
       "      <td>2.09000</td>\n",
       "      <td>-0.36788</td>\n",
       "      <td>...</td>\n",
       "      <td>0.159360</td>\n",
       "      <td>-1.45240</td>\n",
       "      <td>-0.13816</td>\n",
       "      <td>-1.50600</td>\n",
       "      <td>-0.66690</td>\n",
       "      <td>-1.41060</td>\n",
       "      <td>-0.65905</td>\n",
       "      <td>-0.38332</td>\n",
       "      <td>0.16310</td>\n",
       "      <td>1.111200</td>\n",
       "      <td>0.056765</td>\n",
       "      <td>0.67707</td>\n",
       "      <td>-0.25127</td>\n",
       "      <td>0.32764</td>\n",
       "      <td>0.546360</td>\n",
       "      <td>-1.972300</td>\n",
       "      <td>0.033561</td>\n",
       "      <td>0.65132</td>\n",
       "      <td>-0.804400</td>\n",
       "      <td>-0.70066</td>\n",
       "      <td>-1.395700</td>\n",
       "      <td>-0.80951</td>\n",
       "      <td>-0.79878</td>\n",
       "      <td>0.22992</td>\n",
       "      <td>-0.55406</td>\n",
       "      <td>-1.42200</td>\n",
       "      <td>-0.790870</td>\n",
       "      <td>-0.37103</td>\n",
       "      <td>-1.973000</td>\n",
       "      <td>-0.61356</td>\n",
       "      <td>-0.279060</td>\n",
       "      <td>-0.66515</td>\n",
       "      <td>0.21881</td>\n",
       "      <td>-0.388650</td>\n",
       "      <td>-1.32840</td>\n",
       "      <td>0.28258</td>\n",
       "      <td>0.021629</td>\n",
       "      <td>-2.858200</td>\n",
       "      <td>-1.91630</td>\n",
       "      <td>-0.943880</td>\n",
       "    </tr>\n",
       "  </tbody>\n",
       "</table>\n",
       "<p>5 rows × 10000 columns</p>\n",
       "</div>"
      ],
      "text/plain": [
       "      0        1         2        3     ...      9996      9997     9998      9999\n",
       "0 -0.62792 -0.24685  0.257740 -1.66090  ... -1.274500 -2.260300 -0.91631 -0.303750\n",
       "1  1.38720  0.58790 -1.174900  0.13679  ... -1.830700 -0.062291 -0.70922  0.787200\n",
       "2  2.20110 -0.43099 -0.026149  0.44379  ...  0.804750 -0.799210  0.77229  1.481000\n",
       "3 -1.19320  1.24200  0.258260  1.48780  ... -2.642300 -0.384730  0.77222 -0.008419\n",
       "4 -0.74989  1.76020 -0.442110 -1.68450  ...  0.021629 -2.858200 -1.91630 -0.943880\n",
       "\n",
       "[5 rows x 10000 columns]"
      ]
     },
     "execution_count": 65,
     "metadata": {},
     "output_type": "execute_result"
    }
   ],
   "source": [
    "#Reading True_null.txt\n",
    "df_tn = pd.read_csv(\"True_null.txt\", header = None)\n",
    "df_tn.head()"
   ]
  },
  {
   "cell_type": "code",
   "execution_count": 66,
   "metadata": {
    "id": "cmgc9OLNl7ot"
   },
   "outputs": [],
   "source": [
    "def pval(list,val,size):\n",
    "    return  2*min([check(list,val)/size+1, check2(list,val)/size+1])\n",
    "    \n",
    "probs = np.zeros(10000)\n",
    "\n",
    "\n",
    "#New Solution\n",
    "\n",
    "#Rejection check for N columns \n",
    "for i in range(10000):\n",
    "    y_array = np.array(df_tn[i])\n",
    "    epsilon = multi_dot([sub, y_array])\n",
    "    \n",
    "    eps_diff = np.diff(epsilon, n=1, axis=0,)\n",
    "    eps_sqr = np.square(eps_diff)\n",
    "    sum1 = np.sum(eps_sqr, axis=0)\n",
    "    \n",
    "    eps_den = np.square(epsilon)\n",
    "    sum2 = np.sum(eps_den)\n",
    "    \n",
    "    test_statistic = sum1/sum2\n",
    "    if(test_statistic<rej_c1 or test_statistic>rej_c2):\n",
    "        probs[i] = 1\n",
    "    \n",
    "\n",
    "\n",
    "#Probability of rejection\n",
    "alpha = np.mean(probs)\n",
    "    "
   ]
  },
  {
   "cell_type": "code",
   "execution_count": 67,
   "metadata": {
    "colab": {
     "base_uri": "https://localhost:8080/"
    },
    "id": "rYYi9gPel7ow",
    "outputId": "6beaaf44-cfd7-43c9-a9f8-9d42c40017d6"
   },
   "outputs": [
    {
     "name": "stdout",
     "output_type": "stream",
     "text": [
      "0.0995\n"
     ]
    }
   ],
   "source": [
    "print(alpha) "
   ]
  },
  {
   "cell_type": "markdown",
   "metadata": {
    "id": "8CZDwzPkl7ox"
   },
   "source": [
    "## Part E"
   ]
  },
  {
   "cell_type": "code",
   "execution_count": 68,
   "metadata": {
    "colab": {
     "base_uri": "https://localhost:8080/"
    },
    "id": "H9hGTqKMl7ox",
    "outputId": "034f27df-cfa2-4975-9d62-0a8689e90ae6"
   },
   "outputs": [
    {
     "data": {
      "text/plain": [
       "<bound method NDFrame.head of         0        1        2        3     ...     9996     9997     9998      9999\n",
       "0  -0.712300 -0.33122  0.17336 -1.74520  ... -1.35880 -2.34460 -1.00070 -0.388120\n",
       "1   1.244700  0.52166 -1.14020 -0.21226  ... -2.10250 -0.53122 -0.90936  0.709570\n",
       "2   2.450000 -0.32665 -0.25420  0.40134  ...  0.38425 -0.90545  0.59042  1.622900\n",
       "3  -0.703170  1.17660  0.20742  1.56810  ... -2.56550 -0.56582  0.89030  0.316160\n",
       "4  -0.890530  1.99550 -0.40062 -1.37080  ... -0.49146 -2.97140 -1.73820 -0.880650\n",
       "..       ...      ...      ...      ...  ...      ...      ...      ...       ...\n",
       "95 -0.062718  0.51397  0.41479 -1.22140  ... -0.17607 -0.59603  0.84981  2.639000\n",
       "96 -1.008500  0.34215 -2.01440 -0.21421  ... -3.16940 -2.71010 -1.71630 -0.174510\n",
       "97 -1.679800 -0.56710 -1.50140 -2.56090  ... -1.00990 -1.68450 -0.59865 -2.751700\n",
       "98  0.205610  1.30220 -0.47946 -1.93270  ... -0.90779 -0.96402  0.16431 -0.093105\n",
       "99  0.101860 -1.64230 -0.56062 -1.93880  ...  1.37600 -1.54740 -0.19798  0.377920\n",
       "\n",
       "[100 rows x 10000 columns]>"
      ]
     },
     "execution_count": 68,
     "metadata": {},
     "output_type": "execute_result"
    }
   ],
   "source": [
    "df_fn = pd.read_csv(\"False_null.txt\", header = None)\n",
    "df_fn.head\n"
   ]
  },
  {
   "cell_type": "code",
   "execution_count": 71,
   "metadata": {
    "id": "1fAVHgyAl7oz"
   },
   "outputs": [],
   "source": [
    "probs = np.zeros(10000)\n",
    "true_coverage = np.zeros(10000)\n",
    "\n",
    "#New Solution\n",
    "\n",
    "#Coverage and Rejection check for N columns\n",
    "for i in range(10000):\n",
    "    y_array = np.array(df_fn[i])\n",
    "    epsilon = multi_dot([sub, y_array])\n",
    "    \n",
    "    eps_diff = np.diff(epsilon, n=1, axis=0,)\n",
    "    eps_sqr = np.square(eps_diff)\n",
    "    sum1 = np.sum(eps_sqr, axis=0)\n",
    "    \n",
    "    eps_den = np.square(epsilon)\n",
    "    sum2 = np.sum(eps_den)\n",
    "    \n",
    "    test_statistic = sum1/sum2\n",
    "    probs[i] = (test_statistic >= rej_c1 and test_statistic <= rej_c2)\n",
    "    true_coverage[i] = ((rej_c1-test_statistic)/2 <=  0.2 and 0.2  <=(rej_c2-test_statistic)/2)\n",
    "    \n",
    "    \n",
    "\n",
    "#type-2 error, (not rejecting null while it is false)\n",
    "beta = np.mean(probs)\n"
   ]
  },
  {
   "cell_type": "code",
   "execution_count": 72,
   "metadata": {
    "colab": {
     "base_uri": "https://localhost:8080/"
    },
    "id": "VtCEsLFHl7o1",
    "outputId": "cd1d2f71-74da-421a-d3ea-2f9b139299a0"
   },
   "outputs": [
    {
     "name": "stdout",
     "output_type": "stream",
     "text": [
      "0.5206\n",
      "0.8881\n"
     ]
    }
   ],
   "source": [
    "# power of the test = (1 - beta)\n",
    "print(1-beta)\n",
    "print(np.mean(true_coverage))\n"
   ]
  },
  {
   "cell_type": "code",
   "execution_count": 40,
   "metadata": {
    "id": "Bjx_MMeJmHhZ"
   },
   "outputs": [],
   "source": [
    "#Old Solution\n",
    "\n",
    "#size = 99\n",
    "#\n",
    "#for i in range(10000):   \n",
    "#    y_array = np.array(df_tn[i])\n",
    "#    epsilon = multi_dot([sub, y_array])\n",
    "#    eps_diff = np.diff(epsilon, n=1, axis=0,)\n",
    "#    eps_sqr = np.square(eps_diff)\n",
    "#    sum1 = np.sum(eps_sqr, axis=0)\n",
    "#    eps_den = np.square(epsilon)\n",
    "#    sum2 = np.sum(eps_den)\n",
    "#    test_statistic = sum1/sum2\n",
    "#    list_tstats = [test_statistic]\n",
    "#    \n",
    "#    for n in range(size):\n",
    "#        ran_exp = np.random.standard_normal(size = 100)\n",
    "#        eps_diff = np.diff(ran_exp, n=1, axis=0,)\n",
    "#        eps_sqr1 = np.square(eps_diff)\n",
    "#        ep_sqr = np.square(ran_exp)\n",
    "#        suma = np.sum(eps_sqr1)\n",
    "#        sumb = np.sum(ep_sqr)\n",
    "#        t_stat = suma/sumb\n",
    "#        list_tstats.append(t_stat)\n",
    "#        \n",
    "#    k1 = int((size+1)*(0.1/2) + 1)\n",
    "#    k2 = int((1-0.1/2)*(size+1))\n",
    "#    rej_c1 = list_tstats[k1-1]\n",
    "#    rej_c2 = list_tstats[k2-1]\n",
    "#    \n",
    "#    if (test_statistic<rej_c1 or test_statistic>rej_c2):\n",
    "#        probs[i] = 1\n",
    "        \n",
    "        \n",
    "    \n",
    "#Old Solution\n",
    "\n",
    "#size = 99\n",
    "#\n",
    "#for i in range(10000):   \n",
    "#    y_array = np.array(df_fn[i])\n",
    "#    epsilon = multi_dot([sub, y_array])\n",
    "#    eps_diff = np.diff(epsilon, n=1, axis=0,)\n",
    "#    eps_sqr = np.square(eps_diff)\n",
    "#    sum1 = np.sum(eps_sqr, axis=0)\n",
    "#    eps_den = np.square(epsilon)\n",
    "#    sum2 = np.sum(eps_den)\n",
    "#    test_statistic = sum1/sum2\n",
    "#    list_tstats = [test_statistic]\n",
    "#    \n",
    "#    for n in range(size):\n",
    "#        ran_exp = np.random.standard_normal(size = 100)\n",
    "#        eps_diff = np.diff(ran_exp, n=1, axis=0,)\n",
    "#        eps_sqr1 = np.square(eps_diff)\n",
    "#        ep_sqr = np.square(ran_exp)\n",
    "#        suma = np.sum(eps_sqr1)\n",
    "#        sumb = np.sum(ep_sqr)\n",
    "#        t_stat = suma/sumb\n",
    "#        list_tstats.append(t_stat)\n",
    "#        \n",
    "#    k1 = int((size+1)*(0.1/2) + 1)\n",
    "#    k2 = int((1-0.1/2)*(size+1))\n",
    "#    rej_c1 = list_tstats[k1-1]\n",
    "#    rej_c2 = list_tstats[k2-1]\n",
    "#    \n",
    "#    if (1-rej_c2/2 <= 0.2 and 0.2 <=1-rej_c1/2):\n",
    "#        true_coverage[i] = 1\n",
    "#    if (test_statistic>rej_c1 and test_statistic<rej_c2):\n",
    "#        probs[i] = 1\n",
    "\n",
    "\n"
   ]
  }
 ],
 "metadata": {
  "colab": {
   "name": "CME_Assignment1.ipynb",
   "provenance": []
  },
  "kernelspec": {
   "display_name": "Python 3",
   "language": "python",
   "name": "python3"
  },
  "language_info": {
   "codemirror_mode": {
    "name": "ipython",
    "version": 3
   },
   "file_extension": ".py",
   "mimetype": "text/x-python",
   "name": "python",
   "nbconvert_exporter": "python",
   "pygments_lexer": "ipython3",
   "version": "3.8.8"
  }
 },
 "nbformat": 4,
 "nbformat_minor": 4
}
