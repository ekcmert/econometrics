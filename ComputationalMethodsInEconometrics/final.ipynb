{
 "cells": [
  {
   "cell_type": "code",
   "execution_count": 9,
   "id": "364ecbda-f791-4ec1-8eba-1deb2d2dd004",
   "metadata": {},
   "outputs": [],
   "source": [
    "import numpy as np\n",
    "import matplotlib.pyplot as plt\n",
    "import pandas as pd\n",
    "import statsmodels.api as sm\n",
    "import seaborn as sns\n",
    "from numpy.linalg import multi_dot\n",
    "from scipy.stats import expon\n",
    "from scipy import stats\n",
    "import math "
   ]
  },
  {
   "cell_type": "markdown",
   "id": "89b578f9-f0c7-4b42-803b-39e2869c8d25",
   "metadata": {},
   "source": [
    "# CME Assignment 2\n",
    "\n",
    "Group 17:\n",
    "\n",
    "Julius Frijns (2749984)\t\t\t\n",
    "\t\n",
    "Mert Ekici (2741471)\n",
    "\t\n",
    "Balen Buyuh Asangbeh (2663654)\n",
    "\t\n",
    "Matthijs Verschoor (2678037)\t"
   ]
  },
  {
   "cell_type": "markdown",
   "id": "a65d3478-32ab-452c-962e-a6a76a2f6e0e",
   "metadata": {},
   "source": [
    "## Please run the cells in order!"
   ]
  },
  {
   "cell_type": "markdown",
   "id": "fbee8c4e-4c8b-4ca5-b62a-4a7c7221cef7",
   "metadata": {},
   "source": [
    "# Exercise I"
   ]
  },
  {
   "cell_type": "markdown",
   "id": "82100b00-2752-4722-9057-d76ce9e00396",
   "metadata": {},
   "source": [
    "## a)"
   ]
  },
  {
   "cell_type": "code",
   "execution_count": 10,
   "id": "d2473ccb-b1e5-4e33-9500-5a6083fa0fe8",
   "metadata": {},
   "outputs": [
    {
     "data": {
      "text/plain": [
       "<bound method NDFrame.head of     0         1         2\n",
       "0   1 -2.141200  0.314240\n",
       "1   1  0.248220  0.501330\n",
       "2   1 -0.600030  3.222600\n",
       "3   1  0.011523  1.131700\n",
       "4   1  0.040891 -2.422100\n",
       "5   1 -0.819190 -0.006210\n",
       "6   1  0.011036  1.077400\n",
       "7   1 -1.212500  0.421390\n",
       "8   1  1.707300  1.055000\n",
       "9   1 -0.375350  0.226250\n",
       "10  1 -0.349660 -0.462510\n",
       "11  1 -0.741720  1.302100\n",
       "12  1 -0.064952  0.004511\n",
       "13  1 -0.796060 -0.645480\n",
       "14  1  1.212400 -0.404720\n",
       "15  1  2.224400  0.982160\n",
       "16  1 -0.256140 -1.950200\n",
       "17  1  0.393200  0.973530\n",
       "18  1 -0.537060 -0.739670\n",
       "19  1 -0.288030  0.752240\n",
       "20  1 -0.821940 -1.432000\n",
       "21  1  0.454990 -1.262600\n",
       "22  1 -0.909890  0.867950\n",
       "23  1 -0.561490 -1.190500\n",
       "24  1 -0.375960  1.490200>"
      ]
     },
     "execution_count": 10,
     "metadata": {},
     "output_type": "execute_result"
    }
   ],
   "source": [
    "#reading regressors\n",
    "df = pd.read_csv(\"Regressors.txt\", header = None)\n",
    "df.head"
   ]
  },
  {
   "cell_type": "code",
   "execution_count": 11,
   "id": "1b1e37a9-3d6e-4285-8664-9e94db6f8a41",
   "metadata": {},
   "outputs": [
    {
     "data": {
      "text/plain": [
       "(25, 10000)"
      ]
     },
     "execution_count": 11,
     "metadata": {},
     "output_type": "execute_result"
    }
   ],
   "source": [
    "#reading observables\n",
    "df_y = pd.read_csv(\"Observables.txt\", header = None)\n",
    "df_y.shape"
   ]
  },
  {
   "cell_type": "markdown",
   "id": "b9160135-6d1d-4197-b4a7-45f74649ff38",
   "metadata": {},
   "source": [
    "## b)"
   ]
  },
  {
   "cell_type": "code",
   "execution_count": 12,
   "id": "dc35b018-0341-40f8-9681-f43429f97317",
   "metadata": {},
   "outputs": [
    {
     "data": {
      "text/plain": [
       "(10000, 25)"
      ]
     },
     "execution_count": 12,
     "metadata": {},
     "output_type": "execute_result"
    }
   ],
   "source": [
    "X = np.array(df)\n",
    "Y = np.array(df_y).transpose().tolist()\n",
    "beta_0 = np.array([1, 0, 1]).transpose()\n",
    "\n",
    "np.shape(X)\n",
    "np.shape(Y)"
   ]
  },
  {
   "cell_type": "code",
   "execution_count": 13,
   "id": "390aa325-9e0a-4838-8421-bc7f4aaece97",
   "metadata": {},
   "outputs": [],
   "source": [
    "t_stats = []\n",
    "\n",
    "#(X'X)^-1\n",
    "X_trans = X.transpose()\n",
    "first_mult = multi_dot([X_trans, X])\n",
    "inverse = np.linalg.inv(first_mult) \n",
    "\n",
    "for i in range(10000):\n",
    "    \n",
    "    #beta_OLS\n",
    "    beta_OLS = multi_dot([inverse,multi_dot([X_trans, Y[i]])]) \n",
    "    \n",
    "    #epsilon_OLS & diagonal matrix\n",
    "    third_mult = multi_dot([X, beta_OLS])\n",
    "    epsilon_OLS = np.subtract(Y[i], third_mult)\n",
    "    diag_matrix = np.diag(np.square(epsilon_OLS))\n",
    "    \n",
    "    #var_beta_OLS\n",
    "    fourth_mult = multi_dot([X_trans, diag_matrix, X])\n",
    "    var_beta_OLS = multi_dot([inverse,fourth_mult,inverse])\n",
    "    \n",
    "    t_statistic = beta_OLS[1]/(math.sqrt(var_beta_OLS[1][1]))\n",
    "    t_stats.append(t_statistic)\n",
    "    "
   ]
  },
  {
   "cell_type": "code",
   "execution_count": 14,
   "id": "a6bc53ab-2ef6-4cf6-b490-77c38b698e87",
   "metadata": {},
   "outputs": [],
   "source": [
    "p_values = stats.norm.sf(np.absolute(t_stats))*2"
   ]
  },
  {
   "cell_type": "code",
   "execution_count": 15,
   "id": "957a4b34-e100-411a-a8a9-379a365237a5",
   "metadata": {
    "tags": []
   },
   "outputs": [
    {
     "name": "stdout",
     "output_type": "stream",
     "text": [
      "Theoretical Size:  0.1702\n"
     ]
    }
   ],
   "source": [
    "probs = np.zeros(10000)\n",
    "\n",
    "for i in range(10000):\n",
    "    if (p_values[i] < 0.05):\n",
    "        probs[i] = 1\n",
    "\n",
    "\n",
    "print(\"Theoretical Size: \",np.mean(probs))\n",
    "        "
   ]
  },
  {
   "cell_type": "markdown",
   "id": "e0e70dbc-8804-49d3-b0e7-2659f7faca02",
   "metadata": {},
   "source": [
    "## c)"
   ]
  },
  {
   "cell_type": "code",
   "execution_count": 16,
   "id": "a9f7f8a2-69fb-4ad6-b898-ac8f0c40c499",
   "metadata": {},
   "outputs": [],
   "source": [
    "#P-value functions\n",
    "def check(list, val):\n",
    "    num = 0\n",
    "    for n in list:\n",
    "        if n <= val:\n",
    "            num = num+1\n",
    "        else:\n",
    "            num = num\n",
    "    return num\n",
    "\n",
    "def check2(list, val):\n",
    "    num = 0\n",
    "    for n in list:\n",
    "        if n >= val:\n",
    "            num = num+1\n",
    "        else:\n",
    "            num = num\n",
    "    return num\n",
    "\n",
    "#Symmetric Rejection Region, choose one of them\n",
    "k1 = int((99+1)*(0.05/2) + 1)\n",
    "k2 = int((1-0.05/2)*(99+1))\n",
    "\n",
    "\n",
    "#(X'X)^-1\n",
    "X_trans = X.transpose()\n",
    "first_mult = multi_dot([X_trans, X])\n",
    "inverse = np.linalg.inv(first_mult)  \n",
    "\n",
    "#X matrix with second column dropped (for OLS estimator of Beta under null (beta(2)=0))\n",
    "X_d = np.array(df)\n",
    "X_d = np.delete(X_d,1,1)\n",
    "X_d_trans = X_d.transpose()\n",
    "first_mult_d = multi_dot([X_d_trans, X_d])\n",
    "inverse_d = np.linalg.inv(first_mult_d) \n",
    "\n"
   ]
  },
  {
   "cell_type": "markdown",
   "id": "0e9826e3-e28a-4086-a884-6144c3b85769",
   "metadata": {},
   "source": [
    "Nonparametric residual bootstrap\n",
    "\n",
    "No need to re-center because the matrix X contains a constant vector (first column)."
   ]
  },
  {
   "cell_type": "code",
   "execution_count": 286,
   "id": "a922297b-aa09-45ec-9901-62f2eed9cde2",
   "metadata": {},
   "outputs": [],
   "source": [
    "probs_rb = np.zeros(10000)\n",
    "\n",
    "\n",
    "for i in range(10000):\n",
    "    t_stats_rb = []\n",
    "    \n",
    "    #beta_OLS\n",
    "    beta_OLS = multi_dot([inverse,multi_dot([X_trans, Y[i]])]) \n",
    "    \n",
    "    #epsilon_OLS & diagonal matrix\n",
    "    third_mult = multi_dot([X, beta_OLS])\n",
    "    epsilon_OLS = np.subtract(Y[i], third_mult)\n",
    "    diag_matrix = np.diag(np.square(epsilon_OLS))\n",
    "    \n",
    "    #var_beta_OLS\n",
    "    fourth_mult = multi_dot([X_trans, diag_matrix, X])\n",
    "    var_beta_OLS = multi_dot([inverse,fourth_mult,inverse])\n",
    "    \n",
    "    test_statistic = beta_OLS[1]/(math.sqrt(var_beta_OLS[1][1]))\n",
    "    t_stats_rb.append(abs(t_statistic))\n",
    "    \n",
    "    #re-estimate beta under the null\n",
    "    beta_hat = multi_dot([inverse_d,multi_dot([X_d_trans, Y[i]])]) \n",
    "    beta_hat = np.insert(beta_hat,1,0,0)\n",
    "    epsilon_hat = np.subtract(Y[i],  multi_dot([X, beta_hat]))\n",
    "     \n",
    "    for k in range(99):\n",
    "        #simulate epsilon_star\n",
    "        epsilon_star = np.random.choice(epsilon_hat,25)*math.sqrt(25/22)\n",
    "        y_star = np.add(multi_dot([X, beta_hat]),epsilon_star)\n",
    "        \n",
    "        #dervie t_statistic from the simulated data\n",
    "        beta_OLS_sim = multi_dot([inverse,multi_dot([X_trans, y_star])])\n",
    "        third_mult_sim = multi_dot([X, beta_OLS_sim])\n",
    "        epsilon_OLS_sim = np.subtract(y_star, third_mult_sim)\n",
    "        diag_matrix_sim = np.diag(np.square(epsilon_OLS_sim))\n",
    "        fourth_mult_sim = multi_dot([X_trans, diag_matrix_sim, X])\n",
    "        var_beta_OLS_sim = multi_dot([inverse,fourth_mult_sim,inverse])\n",
    "        t_statistic = beta_OLS_sim[1]/(math.sqrt(var_beta_OLS_sim[1][1]))\n",
    "        t_stats_rb.append(abs(t_statistic))\n",
    "\n",
    "\n",
    "    value2 = check2(t_stats_rb, abs(test_statistic))\n",
    "    p_value =  (value2)/100\n",
    "    if(p_value < 0.05):\n",
    "        probs_rb[i] = 1\n",
    "\n",
    "   \n",
    "    "
   ]
  },
  {
   "cell_type": "code",
   "execution_count": 287,
   "id": "947de146-9fb8-4666-8cc3-e00aede1c65d",
   "metadata": {},
   "outputs": [
    {
     "name": "stdout",
     "output_type": "stream",
     "text": [
      "Residual Nonparametric Bootstrap Size:  0.0768\n"
     ]
    }
   ],
   "source": [
    "print(\"Residual Nonparametric Bootstrap Size: \",np.mean(probs_rb))"
   ]
  },
  {
   "cell_type": "markdown",
   "id": "3c8fabf4-7fb9-4869-b7da-6e963c779332",
   "metadata": {},
   "source": [
    "Wild bootstrap (random normal)"
   ]
  },
  {
   "cell_type": "code",
   "execution_count": 288,
   "id": "41440d02-d284-401f-a857-02f79f97bb15",
   "metadata": {},
   "outputs": [],
   "source": [
    "probs_wb = np.zeros(10000)\n",
    "for i in range(10000):\n",
    "    \n",
    "    t_stats_wb = []\n",
    "    \n",
    "    #beta_OLS\n",
    "    beta_OLS = multi_dot([inverse,multi_dot([X_trans, Y[i]])]) \n",
    "    \n",
    "    #epsilon_OLS & diagonal matrix\n",
    "    third_mult = multi_dot([X, beta_OLS])\n",
    "    epsilon_OLS = np.subtract(Y[i], third_mult)\n",
    "    diag_matrix = np.diag(np.square(epsilon_OLS))\n",
    "    \n",
    "    #var_beta_OLS\n",
    "    fourth_mult = multi_dot([X_trans, diag_matrix, X])\n",
    "    var_beta_OLS = multi_dot([inverse,fourth_mult,inverse])\n",
    "    \n",
    "    test_statistic = beta_OLS[1]/(math.sqrt(var_beta_OLS[1][1]))\n",
    "    t_stats_wb.append(abs(test_statistic))\n",
    "    \n",
    "    #re-estimate beta under the null\n",
    "    beta_hat = multi_dot([inverse_d,multi_dot([X_d_trans, Y[i]])]) \n",
    "    beta_hat = np.insert(beta_hat,1,0,0)\n",
    "    epsilon_hat = np.subtract(Y[i],  multi_dot([X, beta_hat]))\n",
    "     \n",
    "    for k in range(99):\n",
    "        #simulate epsilon_star with random normal\n",
    "        ran_exp = np.random.standard_normal(size = 25)\n",
    "        epsilon_star = np.multiply(epsilon_hat, ran_exp)\n",
    "        y_star = np.add(multi_dot([X, beta_hat]),epsilon_star)\n",
    "        \n",
    "        #dervie t_statistic from the simulated data\n",
    "        beta_OLS_sim = multi_dot([inverse,multi_dot([X_trans, y_star])])\n",
    "        third_mult_sim = multi_dot([X, beta_OLS_sim])\n",
    "        epsilon_OLS_sim = np.subtract(y_star, third_mult_sim)\n",
    "        diag_matrix_sim = np.diag(np.square(epsilon_OLS_sim))\n",
    "        fourth_mult_sim = multi_dot([X_trans, diag_matrix_sim, X])\n",
    "        var_beta_OLS_sim = multi_dot([inverse,fourth_mult_sim,inverse])\n",
    "        t_statistic = beta_OLS_sim[1]/(math.sqrt(var_beta_OLS_sim[1][1]))\n",
    "        t_stats_wb.append(abs(t_statistic))\n",
    "    \n",
    "\n",
    "    value2 = check2(t_stats_wb, abs(test_statistic))\n",
    "    p_value = value2/100\n",
    "    if(p_value <= 0.05):\n",
    "        probs_wb[i] = 1\n",
    "\n"
   ]
  },
  {
   "cell_type": "code",
   "execution_count": 289,
   "id": "57b3160a-202f-4748-8bf3-8883687d0171",
   "metadata": {},
   "outputs": [
    {
     "name": "stdout",
     "output_type": "stream",
     "text": [
      "Wild Bootstrap with Random Normal Size:  0.0889\n"
     ]
    }
   ],
   "source": [
    "print(\"Wild Bootstrap with Random Normal Size: \",np.mean(probs_wb))"
   ]
  },
  {
   "cell_type": "markdown",
   "id": "a8a8a684-9529-4465-9bd7-4d02d3fd9551",
   "metadata": {},
   "source": [
    "Wild bootstrap (random two point)"
   ]
  },
  {
   "cell_type": "code",
   "execution_count": 290,
   "id": "842d18f4-eee6-460b-91a4-680804b669be",
   "metadata": {},
   "outputs": [],
   "source": [
    "probs_wb2 = np.zeros(10000)\n",
    "for i in range(10000):\n",
    "    t_stats_wb2 = []\n",
    "    \n",
    "    #beta_OLS\n",
    "    beta_OLS = multi_dot([inverse,multi_dot([X_trans, Y[i]])]) \n",
    "    \n",
    "    #epsilon_OLS & diagonal matrix\n",
    "    third_mult = multi_dot([X, beta_OLS])\n",
    "    epsilon_OLS = np.subtract(Y[i], third_mult)\n",
    "    diag_matrix = np.diag(np.square(epsilon_OLS))\n",
    "    \n",
    "    #var_beta_OLS\n",
    "    fourth_mult = multi_dot([X_trans, diag_matrix, X])\n",
    "    var_beta_OLS = multi_dot([inverse,fourth_mult,inverse])\n",
    "    \n",
    "    test_statistic = beta_OLS[1]/(math.sqrt(var_beta_OLS[1][1]))\n",
    "    t_stats_wb2.append(abs(test_statistic))\n",
    "    \n",
    "    #re-estimate beta under the null\n",
    "    beta_hat = multi_dot([inverse_d,multi_dot([X_d_trans, Y[i]])]) \n",
    "    beta_hat = np.insert(beta_hat,1,0,0)\n",
    "    epsilon_hat = np.subtract(Y[i],  multi_dot([X, beta_hat]))\n",
    "     \n",
    "    for k in range(99):\n",
    "        #simulate epsilon_star with two point\n",
    "        ran_exp = np.random.choice([1,-1],25)\n",
    "        epsilon_star = np.multiply(epsilon_hat, ran_exp)\n",
    "        y_star = np.add(multi_dot([X, beta_hat]),epsilon_star)\n",
    "        \n",
    "        #dervie t_statistic from the simulated data\n",
    "        beta_OLS_sim = multi_dot([inverse,multi_dot([X_trans, y_star])])\n",
    "        third_mult_sim = multi_dot([X, beta_OLS_sim])\n",
    "        epsilon_OLS_sim = np.subtract(y_star, third_mult_sim)\n",
    "        diag_matrix_sim = np.diag(np.square(epsilon_OLS_sim))\n",
    "        fourth_mult_sim = multi_dot([X_trans, diag_matrix_sim, X])\n",
    "        var_beta_OLS_sim = multi_dot([inverse,fourth_mult_sim,inverse])\n",
    "        t_statistic = beta_OLS_sim[1]/(math.sqrt(var_beta_OLS_sim[1][1]))\n",
    "        t_stats_wb2.append(abs(t_statistic))\n",
    "    \n",
    "\n",
    "    value2 = check2(t_stats_wb2, abs(test_statistic))\n",
    "    p_value = value2/100\n",
    "    if(p_value <= 0.05):\n",
    "        probs_wb2[i] = 1\n",
    "    "
   ]
  },
  {
   "cell_type": "code",
   "execution_count": 291,
   "id": "c7a9e11c-61de-4a82-b381-5d8ae9190bbf",
   "metadata": {},
   "outputs": [
    {
     "name": "stdout",
     "output_type": "stream",
     "text": [
      "Wild Bootstrap with Two Point Size:  0.0508\n"
     ]
    }
   ],
   "source": [
    "print(\"Wild Bootstrap with Two Point Size: \",np.mean(probs_wb2))"
   ]
  },
  {
   "cell_type": "markdown",
   "id": "3c0a72df-e790-4ee8-a5c5-e15b15c074bc",
   "metadata": {},
   "source": [
    "## d)"
   ]
  },
  {
   "cell_type": "markdown",
   "id": "da2f0730-4d57-4bee-ae92-2d6e9efaf42c",
   "metadata": {},
   "source": [
    "Pairs bootstrap"
   ]
  },
  {
   "cell_type": "code",
   "execution_count": 292,
   "id": "d500729e-5f16-4756-8b35-a1ed55f05ce4",
   "metadata": {},
   "outputs": [],
   "source": [
    "probs_pb = np.zeros(10000)\n",
    "for i in range(10000):\n",
    "    t_stats_pb = []\n",
    "    \n",
    "    #beta_OLS\n",
    "    beta_OLS = multi_dot([inverse,multi_dot([X_trans, Y[i]])]) \n",
    "    \n",
    "    #epsilon_OLS & diagonal matrix\n",
    "    third_mult = multi_dot([X, beta_OLS])\n",
    "    epsilon_OLS = np.subtract(Y[i], third_mult)\n",
    "    diag_matrix = np.diag(np.square(epsilon_OLS))\n",
    "    \n",
    "    #var_beta_OLS\n",
    "    fourth_mult = multi_dot([X_trans, diag_matrix, X])\n",
    "    var_beta_OLS = multi_dot([inverse,fourth_mult,inverse])\n",
    "    \n",
    "    test_statistic = beta_OLS[1]/(math.sqrt(var_beta_OLS[1][1]))\n",
    "    t_stats_pb.append(abs(test_statistic))\n",
    "    \n",
    "    #create new matrix with y X pairs\n",
    "    pairs = np.insert(X,0,Y[i],1)\n",
    "     \n",
    "    for k in range(99):\n",
    "        #simulate new pairs\n",
    "        random_indices = np.random.choice(25, size=25)\n",
    "        ran_exp = pairs[random_indices, :]\n",
    "        X_trans_sim = ran_exp[:,1:].transpose()\n",
    "        first_mult_sim = multi_dot([X_trans_sim, ran_exp[:,1:]])\n",
    "        inverse_sim = np.linalg.inv(first_mult_sim) \n",
    "      \n",
    "    \n",
    "        #dervie t_statistic from the simulated data\n",
    "        beta_OLS_sim = multi_dot([inverse_sim,multi_dot([X_trans_sim, ran_exp[:,0]])])\n",
    "        third_mult_sim = multi_dot([ ran_exp[:,1:], beta_OLS_sim])\n",
    "        epsilon_OLS_sim = np.subtract(ran_exp[:,0], third_mult_sim)\n",
    "        diag_matrix_sim = np.diag(np.square(epsilon_OLS_sim))\n",
    "        fourth_mult_sim = multi_dot([X_trans_sim, diag_matrix_sim, ran_exp[:,1:]])\n",
    "        var_beta_OLS_sim = multi_dot([inverse_sim,fourth_mult_sim,inverse_sim])\n",
    "        t_statistic = (beta_OLS_sim[1]-beta_OLS[1])/(math.sqrt(var_beta_OLS_sim[1][1]))\n",
    "        t_stats_pb.append(abs(t_statistic))\n",
    "\n",
    "    value2 = check2(t_stats_pb, abs(test_statistic))\n",
    "    p_value = value2/100\n",
    "    if(p_value <= 0.05):\n",
    "        probs_pb[i] = 1\n",
    "\n"
   ]
  },
  {
   "cell_type": "code",
   "execution_count": 293,
   "id": "103d9847-4223-4581-a093-ba450fd522b1",
   "metadata": {},
   "outputs": [
    {
     "name": "stdout",
     "output_type": "stream",
     "text": [
      "Pairs Bootstrap Size:  0.0732\n"
     ]
    }
   ],
   "source": [
    "print(\"Pairs Bootstrap Size: \",np.mean(probs_pb))"
   ]
  },
  {
   "cell_type": "markdown",
   "id": "72a43878-d979-41ca-b3dd-0b1df1ce0bfb",
   "metadata": {},
   "source": [
    "# Exercise 2"
   ]
  },
  {
   "cell_type": "markdown",
   "id": "766b1985-4b85-4dcd-b6ee-54d5502ab110",
   "metadata": {},
   "source": [
    "## Part A and B"
   ]
  },
  {
   "cell_type": "code",
   "execution_count": 17,
   "id": "2bd433db-4142-4bba-a40c-0be699438f6f",
   "metadata": {},
   "outputs": [
    {
     "data": {
      "text/plain": [
       "<bound method NDFrame.head of         0         1        2        3        4        5         6        7    \\\n",
       "0   0.00000   0.00000  0.00000  0.00000  0.00000  0.00000  0.000000  0.00000   \n",
       "1   0.00000   0.00000  0.00000  0.00000  0.00000  0.00000  0.000000  0.00000   \n",
       "2  -0.56894  -0.19686 -1.05680 -0.10387  1.00500 -1.02880 -0.443040 -0.51952   \n",
       "3   0.23896   0.14639 -0.15816 -1.96730  0.10241 -0.51024 -0.759440 -1.76830   \n",
       "4  -0.37130   1.53260 -0.52154 -3.68310  0.35397 -0.32552 -1.430400 -0.27113   \n",
       "..      ...       ...      ...      ...      ...      ...       ...      ...   \n",
       "57  2.48010   9.48540  1.07790 -4.32650  0.87138  1.31240  0.566490 -2.04780   \n",
       "58  1.22650   9.12390  1.47850 -4.98860  0.89574  1.47790  0.421590 -2.42840   \n",
       "59  1.35500   9.44140  0.93191 -6.41620  1.04820  1.87000 -0.006308 -2.10020   \n",
       "60  0.76006   9.93650  1.18680 -6.25630  0.98145  1.25430  0.086888 -2.56920   \n",
       "61  2.32110  10.17900  1.82650 -6.58140  0.70568  0.22251 -0.205350 -2.34310   \n",
       "\n",
       "        8         9    ...      990      991     992      993       994  \\\n",
       "0   0.00000  0.000000  ...  0.00000  0.00000  0.0000  0.00000  0.000000   \n",
       "1   0.00000  0.000000  ...  0.00000  0.00000  0.0000  0.00000  0.000000   \n",
       "2  -0.55421  0.307440  ... -0.73768  0.40236  1.9397  0.22317 -0.384110   \n",
       "3  -0.54519 -0.088160  ... -0.25864  0.17524  2.2466  0.65509 -0.015632   \n",
       "4  -0.61572  0.103310  ... -0.55157  0.83027  3.2133  0.77031 -1.199600   \n",
       "..      ...       ...  ...      ...      ...     ...      ...       ...   \n",
       "57  7.96200  0.059606  ...  6.95130  2.67230  3.9372  7.00430 -1.277900   \n",
       "58  7.27210  0.480000  ...  7.65670  2.58950  4.0901  8.03750 -2.094300   \n",
       "59  6.50040  1.026700  ...  7.27810  2.56550  4.0891  7.29900 -1.521100   \n",
       "60  5.94720 -0.442090  ...  6.82380  2.93380  3.7647  7.72810 -1.596200   \n",
       "61  4.05560  0.758660  ...  8.06340  2.94980  3.8889  7.20160 -1.194200   \n",
       "\n",
       "        995       996      997       998       999  \n",
       "0   0.00000  0.000000  0.00000   0.00000  0.000000  \n",
       "1   0.00000  0.000000  0.00000   0.00000  0.000000  \n",
       "2   0.14752 -0.746230  0.78066   0.46222 -0.366320  \n",
       "3   0.13982 -0.462850  1.95920   1.25600 -0.508720  \n",
       "4  -0.38265 -0.035132  0.97514   1.46740  0.405020  \n",
       "..      ...       ...      ...       ...       ...  \n",
       "57  2.82100 -2.491300 -4.86590 -10.37600  0.034425  \n",
       "58  3.07180 -2.933800 -5.45810 -11.62900 -0.021661  \n",
       "59  2.52970 -2.829700 -4.88730 -10.22600 -0.025885  \n",
       "60  3.51950 -2.880900 -5.28480 -11.56600  0.940250  \n",
       "61  3.03130 -2.735900 -5.70570 -10.35200 -0.269790  \n",
       "\n",
       "[62 rows x 1000 columns]>"
      ]
     },
     "execution_count": 17,
     "metadata": {},
     "output_type": "execute_result"
    }
   ],
   "source": [
    "df = pd.read_csv(\"Timeseries_het.txt\", header = None)\n",
    "df.head"
   ]
  },
  {
   "cell_type": "code",
   "execution_count": 18,
   "id": "b1d12e68-1e7a-4a27-b446-32c0916e6daa",
   "metadata": {},
   "outputs": [],
   "source": [
    "X = np.array(df).transpose()\n",
    "phi_1 = 0.75\n",
    "phi_2 = 0.25"
   ]
  },
  {
   "cell_type": "code",
   "execution_count": 19,
   "id": "914a00bc-6066-43a6-982c-b523129253ce",
   "metadata": {},
   "outputs": [
    {
     "name": "stdout",
     "output_type": "stream",
     "text": [
      "(60,)\n"
     ]
    }
   ],
   "source": [
    "#Regression: y(t) - y(t-1) = beta*y(t-1) - phi_2*(y(t-1)-y(t-2)) + epsilon(t)\n",
    "\n",
    "#y(t) - y(t-1)\n",
    "fd_t = np.diff(X[1,1:],1)\n",
    "\n",
    "#y(t-1) - y(t-2)\n",
    "fd_t1 = np.diff(X[1,0:-1],1)\n",
    "\n",
    "x = X[1,0:-2]\n",
    "\n",
    "print(np.shape(x))"
   ]
  },
  {
   "cell_type": "code",
   "execution_count": 20,
   "id": "89160eb7-e0b2-4fb5-9658-8b38cec07e05",
   "metadata": {},
   "outputs": [],
   "source": [
    "t_stats = []\n",
    "probs = np.zeros(1000)\n",
    "for i in range(1000):\n",
    "    \n",
    "    #y(t) - y(t-1)\n",
    "    y = np.diff(X[i,1:],1)\n",
    "    \n",
    "    #y(t-1) - y(t-2)\n",
    "    fd_t1 = np.diff(X[i,0:-1],1).transpose()\n",
    "    \n",
    "    # x matrix = y(t-1) and (y(t-1) - y(t-2))\n",
    "    x = np.column_stack((X[i,0:-2],fd_t1))\n",
    "    \n",
    "    X_trans = x.transpose()\n",
    "    first_mult = multi_dot([X_trans, x])\n",
    "    inverse = np.linalg.inv(first_mult)  \n",
    "    #beta_OLS\n",
    "    beta_OLS = multi_dot([inverse,multi_dot([X_trans, y])]) \n",
    "    \n",
    "    #epsilon_OLS & diagonal matrix\n",
    "    third_mult = multi_dot([x, beta_OLS])\n",
    "    epsilon_OLS = np.subtract(y, third_mult)\n",
    "    diag_matrix = np.diag(np.square(epsilon_OLS))\n",
    "    \n",
    "    #var_beta_OLS\n",
    "    fourth_mult = multi_dot([X_trans, diag_matrix, x])\n",
    "    var_beta_OLS = multi_dot([inverse,fourth_mult,inverse])\n",
    "    \n",
    "    t_statistic = beta_OLS[0]/(math.sqrt(var_beta_OLS[0][0]))\n",
    "    t_stats.append(t_statistic)\n",
    "    \n",
    "    if(t_statistic <= -1.95):\n",
    "        probs[i] = 1\n",
    "\n"
   ]
  },
  {
   "cell_type": "code",
   "execution_count": 21,
   "id": "74fd6ac5-911c-44cd-8e98-35cf52d82352",
   "metadata": {},
   "outputs": [
    {
     "name": "stdout",
     "output_type": "stream",
     "text": [
      "Theoretical Size:  0.072\n"
     ]
    }
   ],
   "source": [
    "print(\"Theoretical Size: \",np.mean(probs))\n"
   ]
  },
  {
   "cell_type": "markdown",
   "id": "61fccf09-bb0f-4b45-88c8-044eaa6230d4",
   "metadata": {},
   "source": [
    "## Part C"
   ]
  },
  {
   "cell_type": "markdown",
   "id": "19d4ef9e-af62-44fd-aa81-5292e76df88d",
   "metadata": {},
   "source": [
    "Nonparametric Residual Bootstrap (Re-centered)"
   ]
  },
  {
   "cell_type": "code",
   "execution_count": 22,
   "id": "1790d681-e5bb-4357-b384-6577dad5680c",
   "metadata": {},
   "outputs": [],
   "source": [
    "probs2_rb = np.zeros(1000)\n",
    "for i in range(1000):\n",
    "    \n",
    "    t_stats2_rb = []\n",
    "    \n",
    "    y = np.diff(X[i,1:],1)\n",
    "    fd_t1 = np.diff(X[i,0:-1],1).transpose()\n",
    "    x = np.column_stack((X[i,0:-2],fd_t1))\n",
    "    \n",
    "    X_trans = x.transpose()\n",
    "    first_mult = multi_dot([X_trans, x])\n",
    "    inverse = np.linalg.inv(first_mult)  \n",
    "    #beta_OLS\n",
    "    beta_OLS = multi_dot([inverse,multi_dot([X_trans, y])]) \n",
    "    \n",
    "    #epsilon_OLS & diagonal matrix\n",
    "    third_mult = multi_dot([x, beta_OLS])\n",
    "    epsilon_OLS = np.subtract(y, third_mult)\n",
    "    diag_matrix = np.diag(np.square(epsilon_OLS))\n",
    "    \n",
    "    #var_beta_OLS\n",
    "    fourth_mult = multi_dot([X_trans, diag_matrix, x])\n",
    "    var_beta_OLS = multi_dot([inverse,fourth_mult,inverse])\n",
    "    \n",
    "    test_statistic = beta_OLS[0]/(math.sqrt(var_beta_OLS[0][0]))\n",
    "    t_stats2_rb.append(test_statistic)\n",
    "    \n",
    "    #phi2 under the null (x contains just delta(t-1))\n",
    "    x_d = fd_t1\n",
    "    X_trans_d = x_d.transpose()\n",
    "    first_mult_d = multi_dot([X_trans_d, x_d])\n",
    "    inverse_d = 1/first_mult_d\n",
    "    \n",
    "    # -betahat = phi2\n",
    "    beta_hat = multi_dot([inverse_d,multi_dot([X_trans_d, y])]) \n",
    "    epsilon_hat = np.add(y,(-beta_hat)*fd_t1)\n",
    "    \n",
    "    for k in range(99):\n",
    "        \n",
    "        #epsilon star with EDF (recentered and rescaled)\n",
    "        epsilon_star = (np.subtract(np.random.choice(epsilon_hat,60),np.mean(epsilon_hat)))\n",
    "        \n",
    "        #y-star\n",
    "        y_star = [0,0]\n",
    "        for j in range(60):\n",
    "            y_t = (1+beta_hat)*(y_star[j+1]) + (-beta_hat)*(y_star[j]) + epsilon_star[j]\n",
    "            y_star.append(y_t)\n",
    "           \n",
    "        y = np.diff(y_star[1:],1)\n",
    "        fd_t1 = np.diff(y_star[0:-1],1).transpose()\n",
    "        x = np.column_stack((y_star[0:-2],fd_t1))\n",
    "        \n",
    "        X_trans = x.transpose()\n",
    "        first_mult = multi_dot([X_trans, x])\n",
    "        inverse = np.linalg.inv(first_mult)  \n",
    "        #beta_OLS\n",
    "        beta_OLS = multi_dot([inverse,multi_dot([X_trans, y])]) \n",
    "        \n",
    "        #epsilon_OLS & diagonal matrix\n",
    "        third_mult = multi_dot([x, beta_OLS])\n",
    "        epsilon_OLS = np.subtract(y, third_mult)\n",
    "        diag_matrix = np.diag(np.square(epsilon_OLS))\n",
    "        #var_beta_OLS\n",
    "        fourth_mult = multi_dot([X_trans, diag_matrix, x])\n",
    "        var_beta_OLS = multi_dot([inverse,fourth_mult,inverse])\n",
    "        \n",
    "        t_statistic = beta_OLS[0]/(math.sqrt(var_beta_OLS[0][0]))\n",
    "        t_stats2_rb.append(t_statistic)\n",
    "        \n",
    "    value = check(t_stats2_rb, test_statistic)\n",
    "    p_value = (value-1)/100\n",
    "    if(p_value <= 0.05):\n",
    "        probs2_rb[i] = 1\n",
    "    \n",
    "        \n"
   ]
  },
  {
   "cell_type": "code",
   "execution_count": 23,
   "id": "650383e8-5dd8-49fc-bfdd-dedaec77ddba",
   "metadata": {
    "tags": []
   },
   "outputs": [
    {
     "name": "stdout",
     "output_type": "stream",
     "text": [
      "Residual Nonparametric Bootstrap Size:  0.066\n"
     ]
    }
   ],
   "source": [
    "print(\"Residual Nonparametric Bootstrap Size: \",np.mean(probs2_rb))"
   ]
  },
  {
   "cell_type": "markdown",
   "id": "29ba45ab-eb1e-42dc-94bd-0a224d851b0c",
   "metadata": {},
   "source": [
    "Wild Bootstrap - Normal Distribution"
   ]
  },
  {
   "cell_type": "code",
   "execution_count": 301,
   "id": "03d0058e-ee57-4e4b-b428-ea58ade02495",
   "metadata": {},
   "outputs": [],
   "source": [
    "probs2_wb = np.zeros(1000)\n",
    "for i in range(1000):\n",
    "    \n",
    "    t_stats2_wb = []\n",
    "    \n",
    "    y = np.diff(X[i,1:],1)\n",
    "    fd_t1 = np.diff(X[i,0:-1],1).transpose()\n",
    "    x = np.column_stack((X[i,0:-2],fd_t1))\n",
    "    \n",
    "    X_trans = x.transpose()\n",
    "    first_mult = multi_dot([X_trans, x])\n",
    "    inverse = np.linalg.inv(first_mult)  \n",
    "    #beta_OLS\n",
    "    beta_OLS = multi_dot([inverse,multi_dot([X_trans, y])]) \n",
    "    \n",
    "    #epsilon_OLS & diagonal matrix\n",
    "    third_mult = multi_dot([x, beta_OLS])\n",
    "    epsilon_OLS = np.subtract(y, third_mult)\n",
    "    diag_matrix = np.diag(np.square(epsilon_OLS))\n",
    "    \n",
    "    #var_beta_OLS\n",
    "    fourth_mult = multi_dot([X_trans, diag_matrix, x])\n",
    "    var_beta_OLS = multi_dot([inverse,fourth_mult,inverse])\n",
    "    \n",
    "    test_statistic = beta_OLS[0]/(math.sqrt(var_beta_OLS[0][0]))\n",
    "    t_stats2_wb.append(test_statistic)\n",
    "    \n",
    "    #phi2 under the null (x contains just delta(t-1))\n",
    "    x_d = fd_t1\n",
    "    X_trans_d = x_d.transpose()\n",
    "    first_mult_d = multi_dot([X_trans_d, x_d])\n",
    "    inverse_d = 1/first_mult_d\n",
    "    \n",
    "    # -betahat = phi2\n",
    "    beta_hat = multi_dot([inverse_d,multi_dot([X_trans_d, y])]) \n",
    "    epsilon_hat = np.add(y,(-beta_hat)*fd_t1)\n",
    "    \n",
    "    for k in range(99):\n",
    "        \n",
    "        #epsilon star with random normal\n",
    "        ran_exp = np.random.standard_normal(size = 60)\n",
    "        epsilon_star = np.multiply(epsilon_hat, ran_exp)\n",
    "        \n",
    "        #y-star\n",
    "        y_star = [0,0]\n",
    "        for j in range(60):\n",
    "            y_t = (1+beta_hat)*(y_star[j+1]) + (-beta_hat)*(y_star[j]) + epsilon_star[j]\n",
    "            y_star.append(y_t)\n",
    "           \n",
    "        y = np.diff(y_star[1:],1)\n",
    "        fd_t1 = np.diff(y_star[0:-1],1).transpose()\n",
    "        x = np.column_stack((y_star[0:-2],fd_t1))\n",
    "        \n",
    "        X_trans = x.transpose()\n",
    "        first_mult = multi_dot([X_trans, x])\n",
    "        inverse = np.linalg.inv(first_mult)  \n",
    "        #beta_OLS\n",
    "        beta_OLS = multi_dot([inverse,multi_dot([X_trans, y])]) \n",
    "        \n",
    "        #epsilon_OLS & diagonal matrix\n",
    "        third_mult = multi_dot([x, beta_OLS])\n",
    "        epsilon_OLS = np.subtract(y, third_mult)\n",
    "        diag_matrix = np.diag(np.square(epsilon_OLS))\n",
    "        #var_beta_OLS\n",
    "        fourth_mult = multi_dot([X_trans, diag_matrix, x])\n",
    "        var_beta_OLS = multi_dot([inverse,fourth_mult,inverse])\n",
    "        \n",
    "        t_statistic = beta_OLS[0]/(math.sqrt(var_beta_OLS[0][0]))\n",
    "        t_stats2_wb.append(t_statistic)\n",
    "        \n",
    "    value = check(t_stats2_wb, test_statistic)\n",
    "    p_value = (value)/100\n",
    "    if(p_value <= 0.05):\n",
    "        probs2_wb[i] = 1\n",
    "    \n",
    "        \n"
   ]
  },
  {
   "cell_type": "code",
   "execution_count": 302,
   "id": "d8520641-25b6-4d2c-852d-3aa91b3c3914",
   "metadata": {},
   "outputs": [
    {
     "name": "stdout",
     "output_type": "stream",
     "text": [
      "Wild Bootstrap with Random Normal Size:  0.056\n"
     ]
    }
   ],
   "source": [
    "print(\"Wild Bootstrap with Random Normal Size: \",np.mean(probs2_wb))"
   ]
  },
  {
   "cell_type": "markdown",
   "id": "aa8b9fa4-f802-4f08-acf8-ce733eaf76cf",
   "metadata": {},
   "source": [
    "Wild Bootstrap - Two Point "
   ]
  },
  {
   "cell_type": "code",
   "execution_count": 30,
   "id": "c6ce91c6-7028-4593-a21a-6147363e3ee4",
   "metadata": {},
   "outputs": [],
   "source": [
    "probs2_wb2 = np.zeros(1000)\n",
    "for i in range(1000):\n",
    "    \n",
    "    t_stats2_wb2 = []\n",
    "    \n",
    "    y = np.diff(X[i,1:],1)\n",
    "    fd_t1 = np.diff(X[i,0:-1],1).transpose()\n",
    "    x = np.column_stack((X[i,0:-2],fd_t1))\n",
    "    \n",
    "    X_trans = x.transpose()\n",
    "    first_mult = multi_dot([X_trans, x])\n",
    "    inverse = np.linalg.inv(first_mult)  \n",
    "    #beta_OLS\n",
    "    beta_OLS = multi_dot([inverse,multi_dot([X_trans, y])]) \n",
    "    \n",
    "    #epsilon_OLS & diagonal matrix\n",
    "    third_mult = multi_dot([x, beta_OLS])\n",
    "    epsilon_OLS = np.subtract(y, third_mult)\n",
    "    diag_matrix = np.diag(np.square(epsilon_OLS))\n",
    "    \n",
    "    #var_beta_OLS\n",
    "    fourth_mult = multi_dot([X_trans, diag_matrix, x])\n",
    "    var_beta_OLS = multi_dot([inverse,fourth_mult,inverse])\n",
    "    \n",
    "    test_statistic = beta_OLS[0]/(math.sqrt(var_beta_OLS[0][0]))\n",
    "    t_stats2_wb2.append(test_statistic)\n",
    "    \n",
    "    #phi2 under the null (x contains just delta(t-1))\n",
    "    x_d = fd_t1\n",
    "    X_trans_d = x_d.transpose()\n",
    "    first_mult_d = multi_dot([X_trans_d, x_d])\n",
    "    inverse_d = 1/first_mult_d\n",
    "    \n",
    "    # -betahat = phi2\n",
    "    beta_hat = multi_dot([inverse_d,multi_dot([X_trans_d, y])]) \n",
    "    epsilon_hat = np.add(y,(-beta_hat)*fd_t1)\n",
    "    \n",
    "    for k in range(99):\n",
    "        \n",
    "        #epsilon star with two point\n",
    "        ran_exp = np.random.choice([1,-1],60)\n",
    "        epsilon_star = np.multiply(epsilon_hat, ran_exp)\n",
    "        \n",
    "        #y-star\n",
    "        y_star = [0,0]\n",
    "        for j in range(60):\n",
    "            y_t = (1+beta_hat)*(y_star[j+1]) + (-beta_hat)*(y_star[j]) + epsilon_star[j]\n",
    "            y_star.append(y_t)\n",
    "           \n",
    "        y = np.diff(y_star[1:],1)\n",
    "        fd_t1 = np.diff(y_star[0:-1],1).transpose()\n",
    "        x = np.column_stack((y_star[0:-2],fd_t1))\n",
    "        \n",
    "        X_trans = x.transpose()\n",
    "        first_mult = multi_dot([X_trans, x])\n",
    "        inverse = np.linalg.inv(first_mult)  \n",
    "        #beta_OLS\n",
    "        beta_OLS = multi_dot([inverse,multi_dot([X_trans, y])]) \n",
    "        \n",
    "        #epsilon_OLS & diagonal matrix\n",
    "        third_mult = multi_dot([x, beta_OLS])\n",
    "        epsilon_OLS = np.subtract(y, third_mult)\n",
    "        diag_matrix = np.diag(np.square(epsilon_OLS))\n",
    "        #var_beta_OLS\n",
    "        fourth_mult = multi_dot([X_trans, diag_matrix, x])\n",
    "        var_beta_OLS = multi_dot([inverse,fourth_mult,inverse])\n",
    "        \n",
    "        t_statistic = beta_OLS[0]/(math.sqrt(var_beta_OLS[0][0]))\n",
    "        t_stats2_wb2.append(t_statistic)\n",
    "        \n",
    "    value = check(t_stats2_wb2, test_statistic)\n",
    "    p_value = (value)/100\n",
    "    if(p_value <= 0.05):\n",
    "        probs2_wb2[i] = 1\n",
    "    \n",
    "        \n"
   ]
  },
  {
   "cell_type": "code",
   "execution_count": 31,
   "id": "34540df6-4213-4004-9438-0c52ab3f28f2",
   "metadata": {},
   "outputs": [
    {
     "name": "stdout",
     "output_type": "stream",
     "text": [
      "Wild Bootstrap with Two Point Size:  0.048\n"
     ]
    }
   ],
   "source": [
    "print(\"Wild Bootstrap with Two Point Size: \",np.mean(probs2_wb2))"
   ]
  },
  {
   "cell_type": "markdown",
   "id": "be6720be-18e1-462d-9ec8-d8c2eeca61de",
   "metadata": {},
   "source": [
    "Block Bootstrap"
   ]
  },
  {
   "cell_type": "code",
   "execution_count": 303,
   "id": "d88d23c0-44f1-43fe-9912-1475c78a7de7",
   "metadata": {},
   "outputs": [],
   "source": [
    "probs2_bb = np.zeros(1000)\n",
    "for i in range(1000):\n",
    "    \n",
    "    t_stats2_bb = []\n",
    "    \n",
    "    y = np.diff(X[i,1:],1)\n",
    "    fd_t1 = np.diff(X[i,0:-1],1).transpose()\n",
    "    x = np.column_stack((X[i,0:-2],fd_t1))\n",
    "    \n",
    "    X_trans = x.transpose()\n",
    "    first_mult = multi_dot([X_trans, x])\n",
    "    inverse = np.linalg.inv(first_mult)  \n",
    "    #beta_OLS\n",
    "    beta_OLS = multi_dot([inverse,multi_dot([X_trans, y])]) \n",
    "    \n",
    "    #epsilon_OLS & diagonal matrix\n",
    "    third_mult = multi_dot([x, beta_OLS])\n",
    "    epsilon_OLS = np.subtract(y, third_mult)\n",
    "    diag_matrix = np.diag(np.square(epsilon_OLS))\n",
    "    \n",
    "    #var_beta_OLS\n",
    "    fourth_mult = multi_dot([X_trans, diag_matrix, x])\n",
    "    var_beta_OLS = multi_dot([inverse,fourth_mult,inverse])\n",
    "    \n",
    "    test_statistic = beta_OLS[0]/(math.sqrt(var_beta_OLS[0][0]))\n",
    "    t_stats2_bb.append(test_statistic)\n",
    "    \n",
    "    #phi2 under the null (x contains just delta(t-1))\n",
    "    x_d = fd_t1\n",
    "    X_trans_d = x_d.transpose()\n",
    "    first_mult_d = multi_dot([X_trans_d, x_d])\n",
    "    inverse_d = 1/first_mult_d\n",
    "    \n",
    "    # -betahat = phi2\n",
    "    beta_hat = multi_dot([inverse_d,multi_dot([X_trans_d, y])]) \n",
    "    epsilon_hat = np.add(y,(-beta_hat)*fd_t1)\n",
    "    \n",
    "    for k in range(99):\n",
    "        #creating blocks B1,B2.....B41 (n-l+1)\n",
    "        blocks = np.empty([41,20], dtype=float)\n",
    "        for f in range(41):\n",
    "            block = epsilon_hat[f:f+20]\n",
    "            blocks[f] = block\n",
    "        \n",
    "        #EDF of blocks\n",
    "        random_indices = np.random.choice(41, size=3)\n",
    "        ran_exp = blocks[random_indices, :]\n",
    "        #Epsilon star\n",
    "        epsilon_star = np.concatenate((ran_exp[0],ran_exp[1],ran_exp[2]))\n",
    "        \n",
    "        #y-star\n",
    "        y_star = [0,0]\n",
    "        for j in range(60):\n",
    "            y_t = (1+beta_hat)*(y_star[j+1]) + (-beta_hat)*(y_star[j]) + epsilon_star[j]\n",
    "            y_star.append(y_t)\n",
    "           \n",
    "        y = np.diff(y_star[1:],1)\n",
    "        fd_t1 = np.diff(y_star[0:-1],1).transpose()\n",
    "        x = np.column_stack((y_star[0:-2],fd_t1))\n",
    "        \n",
    "        X_trans = x.transpose()\n",
    "        first_mult = multi_dot([X_trans, x])\n",
    "        inverse = np.linalg.inv(first_mult)  \n",
    "        #beta_OLS\n",
    "        beta_OLS = multi_dot([inverse,multi_dot([X_trans, y])]) \n",
    "        \n",
    "        #epsilon_OLS & diagonal matrix\n",
    "        third_mult = multi_dot([x, beta_OLS])\n",
    "        epsilon_OLS = np.subtract(y, third_mult)\n",
    "        diag_matrix = np.diag(np.square(epsilon_OLS))\n",
    "        #var_beta_OLS\n",
    "        fourth_mult = multi_dot([X_trans, diag_matrix, x])\n",
    "        var_beta_OLS = multi_dot([inverse,fourth_mult,inverse])\n",
    "        \n",
    "        t_statistic = beta_OLS[0]/(math.sqrt(var_beta_OLS[0][0]))\n",
    "        t_stats2_bb.append(t_statistic)\n",
    "        \n",
    "    value = check(t_stats2_bb, test_statistic)\n",
    "    p_value = (value)/100\n",
    "    if(p_value <= 0.05):\n",
    "        probs2_bb[i] = 1\n",
    "    \n",
    "        \n"
   ]
  },
  {
   "cell_type": "code",
   "execution_count": 304,
   "id": "6f54d59e-bd0f-4b6c-a372-0744e80eb0c4",
   "metadata": {},
   "outputs": [
    {
     "name": "stdout",
     "output_type": "stream",
     "text": [
      "Block Bootstrap Size:  0.028\n"
     ]
    }
   ],
   "source": [
    "print(\"Block Bootstrap Size: \",np.mean(probs2_bb))"
   ]
  },
  {
   "cell_type": "markdown",
   "id": "2e52a269-90f7-4ac3-86b4-ec0acee6d100",
   "metadata": {},
   "source": [
    "Sieve Bootstrap"
   ]
  },
  {
   "cell_type": "code",
   "execution_count": 334,
   "id": "b520e7b5-c324-447d-9cc3-c1354731afb2",
   "metadata": {},
   "outputs": [],
   "source": [
    "probs2_sb = np.zeros(1000)\n",
    "for i in range(1000):\n",
    "    \n",
    "    t_stats2_sb = []\n",
    "    \n",
    "    y = np.diff(X[i,1:],1)\n",
    "    fd_t1 = np.diff(X[i,0:-1],1).transpose()\n",
    "    x = np.column_stack((X[i,0:-2],fd_t1))\n",
    "    \n",
    "    X_trans = x.transpose()\n",
    "    first_mult = multi_dot([X_trans, x])\n",
    "    inverse = np.linalg.inv(first_mult)  \n",
    "    #beta_OLS\n",
    "    beta_OLS = multi_dot([inverse,multi_dot([X_trans, y])]) \n",
    "    \n",
    "    #epsilon_OLS & diagonal matrix\n",
    "    third_mult = multi_dot([x, beta_OLS])\n",
    "    epsilon_OLS = np.subtract(y, third_mult)\n",
    "    diag_matrix = np.diag(np.square(epsilon_OLS))\n",
    "    \n",
    "    #var_beta_OLS\n",
    "    fourth_mult = multi_dot([X_trans, diag_matrix, x])\n",
    "    var_beta_OLS = multi_dot([inverse,fourth_mult,inverse])\n",
    "    \n",
    "    test_statistic = beta_OLS[0]/(math.sqrt(var_beta_OLS[0][0]))\n",
    "    t_stats2_sb.append(test_statistic)\n",
    "    \n",
    "    #phi2 under the null (x contains just delta(t-1))\n",
    "    x_d = fd_t1\n",
    "    X_trans_d = x_d.transpose()\n",
    "    first_mult_d = multi_dot([X_trans_d, x_d])\n",
    "    inverse_d = 1/first_mult_d\n",
    "    \n",
    "    # -betahat = phi2\n",
    "    beta_hat = multi_dot([inverse_d,multi_dot([X_trans_d, y])]) \n",
    "    epsilon_hat = np.add(y,(-beta_hat)*fd_t1)\n",
    "    \n",
    "    #eta = epsilon(t) = p(1)*epsilon(t-1) + p(2)*epsilon(t-2) + p(3)*epsilon(t-3) + p(4)*epsilon(t-4) + p(5)*epsilon(t-5) + eta(t) \n",
    "    epsilon_y = epsilon_hat[5:]\n",
    "    epsilon_x = np.empty([55,5], dtype=float)\n",
    "    for m in range(55):\n",
    "        x_line = []\n",
    "        for d in range(5):\n",
    "            x_line.append(epsilon_hat[m+d])\n",
    "        epsilon_x[m] = x_line\n",
    "        \n",
    "    #AR model to estimate eta\n",
    "    epsilon_x_trans = epsilon_x.transpose()\n",
    "    epsilon_first_mult = multi_dot([epsilon_x_trans, epsilon_x])\n",
    "    epsilon_inverse = np.linalg.inv(epsilon_first_mult)  \n",
    "    epsilon_beta_OLS = multi_dot([epsilon_inverse,multi_dot([epsilon_x_trans, epsilon_y])]) \n",
    "    epsilon_third_mult = multi_dot([epsilon_x, epsilon_beta_OLS])\n",
    "    eta = np.subtract(epsilon_y, epsilon_third_mult)\n",
    "    \n",
    "    for k in range(99):\n",
    "        \n",
    "        #EDF of eta\n",
    "        eta_star = (np.subtract(np.random.choice(eta,55),np.mean(eta)))\n",
    "        #NID(0,var(eta)) -> parametric\n",
    "        eta_star2 = (np.random.normal(size = 55,scale=np.std(eta)))\n",
    "        \n",
    "        #epsilon star\n",
    "        epsilon_star = [epsilon_hat[0],epsilon_hat[1],epsilon_hat[2],epsilon_hat[3],epsilon_hat[4]]\n",
    "        \n",
    "        #recurisevly deriving epsilon stars\n",
    "        for l in range(55):\n",
    "            last_five = [epsilon_star[l],epsilon_star[l+1],epsilon_star[l+2],epsilon_star[l+3],epsilon_star[l+4]]\n",
    "            epsilon_t = np.add(multi_dot([epsilon_beta_OLS,last_five]),eta_star[l])\n",
    "            epsilon_star.append(epsilon_t)\n",
    "            \n",
    "        #y-star    \n",
    "        y_star = [0,0]\n",
    "        for j in range(60):\n",
    "            y_t = (1+beta_hat)*(y_star[j+1]) + (-beta_hat)*(y_star[j]) + epsilon_star[j]\n",
    "            y_star.append(y_t)\n",
    "           \n",
    "        y = np.diff(y_star[1:],1)\n",
    "        fd_t1 = np.diff(y_star[0:-1],1).transpose()\n",
    "        x = np.column_stack((y_star[0:-2],fd_t1))\n",
    "        \n",
    "        X_trans = x.transpose()\n",
    "        first_mult = multi_dot([X_trans, x])\n",
    "        inverse = np.linalg.inv(first_mult)  \n",
    "        #beta_OLS\n",
    "        beta_OLS = multi_dot([inverse,multi_dot([X_trans, y])]) \n",
    "        \n",
    "        #epsilon_OLS & diagonal matrix\n",
    "        third_mult = multi_dot([x, beta_OLS])\n",
    "        epsilon_OLS = np.subtract(y, third_mult)\n",
    "        diag_matrix = np.diag(np.square(epsilon_OLS))\n",
    "        #var_beta_OLS\n",
    "        fourth_mult = multi_dot([X_trans, diag_matrix, x])\n",
    "        var_beta_OLS = multi_dot([inverse,fourth_mult,inverse])\n",
    "        \n",
    "        t_statistic = beta_OLS[0]/(math.sqrt(var_beta_OLS[0][0]))\n",
    "        t_stats2_sb.append(t_statistic)\n",
    "        \n",
    "    value = check(t_stats2_sb, test_statistic)\n",
    "    p_value = (value)/100\n",
    "    if(p_value <= 0.05):\n",
    "        probs2_sb[i] = 1\n",
    "    \n",
    "        \n"
   ]
  },
  {
   "cell_type": "code",
   "execution_count": 335,
   "id": "2d85d287-e6c1-45f1-88bf-8a1ab479f7d5",
   "metadata": {},
   "outputs": [
    {
     "name": "stdout",
     "output_type": "stream",
     "text": [
      "Sieve Bootstrap Size:  0.019\n"
     ]
    }
   ],
   "source": [
    "print(\"Sieve Bootstrap Size: \",np.mean(probs2_sb))"
   ]
  },
  {
   "cell_type": "markdown",
   "id": "f9f775de-5be9-4f5f-881a-45d391b34711",
   "metadata": {},
   "source": [
    "## Part D and E\n",
    "\n",
    "Dependent Timeseries"
   ]
  },
  {
   "cell_type": "code",
   "execution_count": 336,
   "id": "8f796746-f078-4fee-8f6f-4952cdf35f26",
   "metadata": {},
   "outputs": [
    {
     "data": {
      "text/plain": [
       "<bound method NDFrame.head of          0       1        2       3         4        5        6        7    \\\n",
       "0   0.000000  0.0000  0.00000  0.0000  0.000000  0.00000  0.00000  0.00000   \n",
       "1   0.000000  0.0000  0.00000  0.0000  0.000000  0.00000  0.00000  0.00000   \n",
       "2  -0.886600 -3.4259 -0.35977 -1.5003  0.965330 -2.13930 -1.15480 -1.04340   \n",
       "3   0.512770 -2.0982  1.31570 -2.9211 -0.831840 -0.41720 -0.89455 -1.69370   \n",
       "4  -0.844460 -1.2228  0.18714 -3.0472  0.229560 -0.76859 -1.32520  0.89471   \n",
       "..       ...     ...      ...     ...       ...      ...      ...      ...   \n",
       "57  1.092800 -1.8646  1.31370 -1.4197  0.368910 -0.52268 -0.29003  0.21222   \n",
       "58 -1.259700 -1.9962  1.06600 -2.2119  0.079764 -0.59166 -0.65769 -1.00450   \n",
       "59 -0.002908 -1.3533  0.15893 -3.0436  0.210280 -0.34850 -0.95517 -0.33382   \n",
       "60 -0.713600 -1.1440  0.90572 -1.5989  0.006350 -1.31720 -0.47687 -1.09810   \n",
       "61  1.382900 -1.3469  1.31600 -2.0678 -0.209360 -1.79470 -0.85298 -0.44999   \n",
       "\n",
       "        8         9    ...       990       991      992      993       994  \\\n",
       "0   0.00000  0.000000  ...  0.000000  0.000000  0.00000  0.00000  0.000000   \n",
       "1   0.00000  0.000000  ...  0.000000  0.000000  0.00000  0.00000  0.000000   \n",
       "2  -0.01862  0.127240  ... -1.024000  0.237550  2.81810  1.09760 -0.590370   \n",
       "3   0.35529 -0.500000  ...  0.190570 -0.310490  1.15960  1.11000  0.175370   \n",
       "4   0.31011  0.036246  ... -0.551390  0.538650  1.90500  0.89118 -1.353100   \n",
       "..      ...       ...  ...       ...       ...      ...      ...       ...   \n",
       "57  1.98010  0.158730  ...  0.989030  0.082928  0.87971  1.14820 -0.180730   \n",
       "58  0.53480  0.282190  ...  1.171500  0.052582  1.24930  2.43320 -1.109200   \n",
       "59  0.38402  0.450530  ...  0.158120  0.103080  1.11070  0.76476  0.198800   \n",
       "60  0.52530 -1.510300  ...  0.044437  0.493060  0.78721  1.85850 -0.392290   \n",
       "61 -0.86840  1.012400  ...  1.692900  0.177500  1.20340  0.94586  0.077368   \n",
       "\n",
       "        995      996      997       998      999  \n",
       "0   0.00000  0.00000  0.00000  0.000000  0.00000  \n",
       "1   0.00000  0.00000  0.00000  0.000000  0.00000  \n",
       "2   1.33490 -0.73199  0.27096  0.325820 -1.37940  \n",
       "3   0.89758  0.21944  0.87433  0.737710 -0.93888  \n",
       "4   0.45624  0.39300 -1.20230  0.226180  0.03970  \n",
       "..      ...      ...      ...       ...      ...  \n",
       "57  1.30940 -0.35263 -0.34452  0.259290 -0.38371  \n",
       "58  1.48270 -0.68025 -1.48660 -2.399100 -0.86315  \n",
       "59  0.71498 -0.17791 -0.38275  0.130700 -0.81689  \n",
       "60  2.19270 -0.32278 -1.29400 -2.472100  0.15304  \n",
       "61  0.81365 -0.13166 -1.35710 -0.051287 -1.92650  \n",
       "\n",
       "[62 rows x 1000 columns]>"
      ]
     },
     "execution_count": 336,
     "metadata": {},
     "output_type": "execute_result"
    }
   ],
   "source": [
    "df = pd.read_csv(\"Timeseries_dep.txt\", header = None)\n",
    "df.head"
   ]
  },
  {
   "cell_type": "code",
   "execution_count": 337,
   "id": "ae619599-6d8b-4fc9-8d41-0f27306d2f75",
   "metadata": {},
   "outputs": [],
   "source": [
    "X = np.array(df).transpose()"
   ]
  },
  {
   "cell_type": "code",
   "execution_count": 338,
   "id": "7dc3dfd9-aee1-4e7f-afdc-c591d9b52511",
   "metadata": {},
   "outputs": [
    {
     "name": "stdout",
     "output_type": "stream",
     "text": [
      "(60,)\n"
     ]
    }
   ],
   "source": [
    "#Regression: y(t) - y(t-1) = beta*y(t-1) - phi_2*(y(t-1)-y(t-2)) + epsilon(t)\n",
    "\n",
    "#y(t) - y(t-1)\n",
    "fd_t = np.diff(X[1,1:],1)\n",
    "\n",
    "#y(t-1) - y(t-2)\n",
    "fd_t1 = np.diff(X[1,0:-1],1)\n",
    "\n",
    "x = X[1,0:-2]\n",
    "\n",
    "print(np.shape(x))"
   ]
  },
  {
   "cell_type": "code",
   "execution_count": 339,
   "id": "10a8eadd-2c3b-4738-9fbd-9e9906792f00",
   "metadata": {},
   "outputs": [],
   "source": [
    "t_stats = []\n",
    "probs = np.zeros(1000)\n",
    "for i in range(1000):\n",
    "    \n",
    "    #y(t) - y(t-1)\n",
    "    y = np.diff(X[i,1:],1)\n",
    "    \n",
    "    #y(t-1) - y(t-2)\n",
    "    fd_t1 = np.diff(X[i,0:-1],1).transpose()\n",
    "    \n",
    "    # x matrix = y(t-1) and (y(t-1) - y(t-2))\n",
    "    x = np.column_stack((X[i,0:-2],fd_t1))\n",
    "    \n",
    "    X_trans = x.transpose()\n",
    "    first_mult = multi_dot([X_trans, x])\n",
    "    inverse = np.linalg.inv(first_mult)  \n",
    "    #beta_OLS\n",
    "    beta_OLS = multi_dot([inverse,multi_dot([X_trans, y])]) \n",
    "    \n",
    "    #epsilon_OLS & diagonal matrix\n",
    "    third_mult = multi_dot([x, beta_OLS])\n",
    "    epsilon_OLS = np.subtract(y, third_mult)\n",
    "    diag_matrix = np.diag(np.square(epsilon_OLS))\n",
    "    \n",
    "    #var_beta_OLS\n",
    "    fourth_mult = multi_dot([X_trans, diag_matrix, x])\n",
    "    var_beta_OLS = multi_dot([inverse,fourth_mult,inverse])\n",
    "    \n",
    "    t_statistic = beta_OLS[0]/(math.sqrt(var_beta_OLS[0][0]))\n",
    "    t_stats.append(t_statistic)\n",
    "    \n",
    "    if(t_statistic <= -1.95):\n",
    "        probs[i] = 1\n",
    "\n"
   ]
  },
  {
   "cell_type": "code",
   "execution_count": 340,
   "id": "15209f65-8c0c-4b93-bbf6-7c2994903049",
   "metadata": {},
   "outputs": [
    {
     "name": "stdout",
     "output_type": "stream",
     "text": [
      "Theoretical Size:  0.738\n"
     ]
    }
   ],
   "source": [
    "print(\"Theoretical Size: \",np.mean(probs))\n"
   ]
  },
  {
   "cell_type": "markdown",
   "id": "fd690326-f849-4a28-9b04-772f2a804b70",
   "metadata": {},
   "source": [
    "Nonparametric Residual Bootstrap (Re-centered)"
   ]
  },
  {
   "cell_type": "code",
   "execution_count": 341,
   "id": "b8881a97-1867-4d71-973c-92fa24298309",
   "metadata": {},
   "outputs": [],
   "source": [
    "probs2_rb = np.zeros(1000)\n",
    "for i in range(1000):\n",
    "    \n",
    "    t_stats2_rb = []\n",
    "    \n",
    "    y = np.diff(X[i,1:],1)\n",
    "    fd_t1 = np.diff(X[i,0:-1],1).transpose()\n",
    "    x = np.column_stack((X[i,0:-2],fd_t1))\n",
    "    \n",
    "    X_trans = x.transpose()\n",
    "    first_mult = multi_dot([X_trans, x])\n",
    "    inverse = np.linalg.inv(first_mult)  \n",
    "    #beta_OLS\n",
    "    beta_OLS = multi_dot([inverse,multi_dot([X_trans, y])]) \n",
    "    \n",
    "    #epsilon_OLS & diagonal matrix\n",
    "    third_mult = multi_dot([x, beta_OLS])\n",
    "    epsilon_OLS = np.subtract(y, third_mult)\n",
    "    diag_matrix = np.diag(np.square(epsilon_OLS))\n",
    "    \n",
    "    #var_beta_OLS\n",
    "    fourth_mult = multi_dot([X_trans, diag_matrix, x])\n",
    "    var_beta_OLS = multi_dot([inverse,fourth_mult,inverse])\n",
    "    \n",
    "    test_statistic = beta_OLS[0]/(math.sqrt(var_beta_OLS[0][0]))\n",
    "    t_stats2_rb.append(test_statistic)\n",
    "    \n",
    "    #phi2 under the null (x contains just delta(t-1))\n",
    "    x_d = fd_t1\n",
    "    X_trans_d = x_d.transpose()\n",
    "    first_mult_d = multi_dot([X_trans_d, x_d])\n",
    "    inverse_d = 1/first_mult_d\n",
    "    \n",
    "    # -betahat = phi2\n",
    "    beta_hat = multi_dot([inverse_d,multi_dot([X_trans_d, y])]) \n",
    "    epsilon_hat = np.add(y,(-beta_hat)*fd_t1)\n",
    "    \n",
    "    for k in range(99):\n",
    "        \n",
    "        #epsilon star with EDF (recentered and rescaled)\n",
    "        epsilon_star = (np.subtract(np.random.choice(epsilon_hat,60),np.mean(epsilon_hat)))*math.sqrt(60/58)\n",
    "        \n",
    "        #y-star\n",
    "        y_star = [0,0]\n",
    "        for j in range(60):\n",
    "            y_t = (1+beta_hat)*(y_star[j+1]) + (-beta_hat)*(y_star[j]) + epsilon_star[j]\n",
    "            y_star.append(y_t)\n",
    "           \n",
    "        y = np.diff(y_star[1:],1)\n",
    "        fd_t1 = np.diff(y_star[0:-1],1).transpose()\n",
    "        x = np.column_stack((y_star[0:-2],fd_t1))\n",
    "        \n",
    "        X_trans = x.transpose()\n",
    "        first_mult = multi_dot([X_trans, x])\n",
    "        inverse = np.linalg.inv(first_mult)  \n",
    "        #beta_OLS\n",
    "        beta_OLS = multi_dot([inverse,multi_dot([X_trans, y])]) \n",
    "        \n",
    "        #epsilon_OLS & diagonal matrix\n",
    "        third_mult = multi_dot([x, beta_OLS])\n",
    "        epsilon_OLS = np.subtract(y, third_mult)\n",
    "        diag_matrix = np.diag(np.square(epsilon_OLS))\n",
    "        #var_beta_OLS\n",
    "        fourth_mult = multi_dot([X_trans, diag_matrix, x])\n",
    "        var_beta_OLS = multi_dot([inverse,fourth_mult,inverse])\n",
    "        \n",
    "        t_statistic = beta_OLS[0]/(math.sqrt(var_beta_OLS[0][0]))\n",
    "        t_stats2_rb.append(t_statistic)\n",
    "        \n",
    "    value = check(t_stats2_rb, test_statistic)\n",
    "    p_value = (value-1)/100\n",
    "    if(p_value <= 0.05):\n",
    "        probs2_rb[i] = 1\n",
    "    \n",
    "        \n"
   ]
  },
  {
   "cell_type": "code",
   "execution_count": 342,
   "id": "51f6844d-27df-408a-9322-8274aa0c53d5",
   "metadata": {
    "tags": []
   },
   "outputs": [
    {
     "name": "stdout",
     "output_type": "stream",
     "text": [
      "Residual Nonparametric Bootstrap Size:  0.735\n"
     ]
    }
   ],
   "source": [
    "print(\"Residual Nonparametric Bootstrap Size: \", np.mean(probs2_rb))"
   ]
  },
  {
   "cell_type": "markdown",
   "id": "a8a6bc97-3b4e-42ad-a861-609ce98f6320",
   "metadata": {},
   "source": [
    "Wild Bootstrap - Normal Distribution"
   ]
  },
  {
   "cell_type": "code",
   "execution_count": 343,
   "id": "9c21507c-8484-44db-95e8-f698171393a9",
   "metadata": {},
   "outputs": [],
   "source": [
    "probs2_wb = np.zeros(1000)\n",
    "for i in range(1000):\n",
    "    \n",
    "    t_stats2_wb = []\n",
    "    \n",
    "    y = np.diff(X[i,1:],1)\n",
    "    fd_t1 = np.diff(X[i,0:-1],1).transpose()\n",
    "    x = np.column_stack((X[i,0:-2],fd_t1))\n",
    "    \n",
    "    X_trans = x.transpose()\n",
    "    first_mult = multi_dot([X_trans, x])\n",
    "    inverse = np.linalg.inv(first_mult)  \n",
    "    #beta_OLS\n",
    "    beta_OLS = multi_dot([inverse,multi_dot([X_trans, y])]) \n",
    "    \n",
    "    #epsilon_OLS & diagonal matrix\n",
    "    third_mult = multi_dot([x, beta_OLS])\n",
    "    epsilon_OLS = np.subtract(y, third_mult)\n",
    "    diag_matrix = np.diag(np.square(epsilon_OLS))\n",
    "    \n",
    "    #var_beta_OLS\n",
    "    fourth_mult = multi_dot([X_trans, diag_matrix, x])\n",
    "    var_beta_OLS = multi_dot([inverse,fourth_mult,inverse])\n",
    "    \n",
    "    test_statistic = beta_OLS[0]/(math.sqrt(var_beta_OLS[0][0]))\n",
    "    t_stats2_wb.append(test_statistic)\n",
    "    \n",
    "    #phi2 under the null (x contains just delta(t-1))\n",
    "    x_d = fd_t1\n",
    "    X_trans_d = x_d.transpose()\n",
    "    first_mult_d = multi_dot([X_trans_d, x_d])\n",
    "    inverse_d = 1/first_mult_d\n",
    "    \n",
    "    # -betahat = phi2\n",
    "    beta_hat = multi_dot([inverse_d,multi_dot([X_trans_d, y])]) \n",
    "    epsilon_hat = np.add(y,(-beta_hat)*fd_t1)\n",
    "    \n",
    "    for k in range(99):\n",
    "        \n",
    "        #epsilon star with random normal\n",
    "        ran_exp = np.random.standard_normal(size = 60)\n",
    "        epsilon_star = np.multiply(epsilon_hat, ran_exp)\n",
    "        \n",
    "        #y-star\n",
    "        y_star = [0,0]\n",
    "        for j in range(60):\n",
    "            y_t = (1+beta_hat)*(y_star[j+1]) + (-beta_hat)*(y_star[j]) + epsilon_star[j]\n",
    "            y_star.append(y_t)\n",
    "           \n",
    "        y = np.diff(y_star[1:],1)\n",
    "        fd_t1 = np.diff(y_star[0:-1],1).transpose()\n",
    "        x = np.column_stack((y_star[0:-2],fd_t1))\n",
    "        \n",
    "        X_trans = x.transpose()\n",
    "        first_mult = multi_dot([X_trans, x])\n",
    "        inverse = np.linalg.inv(first_mult)  \n",
    "        #beta_OLS\n",
    "        beta_OLS = multi_dot([inverse,multi_dot([X_trans, y])]) \n",
    "        \n",
    "        #epsilon_OLS & diagonal matrix\n",
    "        third_mult = multi_dot([x, beta_OLS])\n",
    "        epsilon_OLS = np.subtract(y, third_mult)\n",
    "        diag_matrix = np.diag(np.square(epsilon_OLS))\n",
    "        #var_beta_OLS\n",
    "        fourth_mult = multi_dot([X_trans, diag_matrix, x])\n",
    "        var_beta_OLS = multi_dot([inverse,fourth_mult,inverse])\n",
    "        \n",
    "        t_statistic = beta_OLS[0]/(math.sqrt(var_beta_OLS[0][0]))\n",
    "        t_stats2_wb.append(t_statistic)\n",
    "        \n",
    "    value = check(t_stats2_wb, test_statistic)\n",
    "    p_value = (value)/100\n",
    "    if(p_value <= 0.05):\n",
    "        probs2_wb[i] = 1\n",
    "    \n",
    "        \n"
   ]
  },
  {
   "cell_type": "code",
   "execution_count": 344,
   "id": "23a20a98-5f84-41e0-be8c-1b6bdac204b8",
   "metadata": {},
   "outputs": [
    {
     "name": "stdout",
     "output_type": "stream",
     "text": [
      "Wild Bootstrap with Random Normal Size:  0.718\n"
     ]
    }
   ],
   "source": [
    "print(\"Wild Bootstrap with Random Normal Size: \",np.mean(probs2_wb))"
   ]
  },
  {
   "cell_type": "markdown",
   "id": "bf30f0c1-466a-4e2f-9e3a-f9a8f1820561",
   "metadata": {},
   "source": [
    "Wild Bootstrap - Two Point "
   ]
  },
  {
   "cell_type": "code",
   "execution_count": 345,
   "id": "1b8c88e7-4a4d-409a-b4bd-3bcd830eed56",
   "metadata": {},
   "outputs": [],
   "source": [
    "probs2_wb2 = np.zeros(1000)\n",
    "for i in range(1000):\n",
    "    \n",
    "    t_stats2_wb2 = []\n",
    "    \n",
    "    y = np.diff(X[i,1:],1)\n",
    "    fd_t1 = np.diff(X[i,0:-1],1).transpose()\n",
    "    x = np.column_stack((X[i,0:-2],fd_t1))\n",
    "    \n",
    "    X_trans = x.transpose()\n",
    "    first_mult = multi_dot([X_trans, x])\n",
    "    inverse = np.linalg.inv(first_mult)  \n",
    "    #beta_OLS\n",
    "    beta_OLS = multi_dot([inverse,multi_dot([X_trans, y])]) \n",
    "    \n",
    "    #epsilon_OLS & diagonal matrix\n",
    "    third_mult = multi_dot([x, beta_OLS])\n",
    "    epsilon_OLS = np.subtract(y, third_mult)\n",
    "    diag_matrix = np.diag(np.square(epsilon_OLS))\n",
    "    \n",
    "    #var_beta_OLS\n",
    "    fourth_mult = multi_dot([X_trans, diag_matrix, x])\n",
    "    var_beta_OLS = multi_dot([inverse,fourth_mult,inverse])\n",
    "    \n",
    "    test_statistic = beta_OLS[0]/(math.sqrt(var_beta_OLS[0][0]))\n",
    "    t_stats2_wb2.append(test_statistic)\n",
    "    \n",
    "    #phi2 under the null (x contains just delta(t-1))\n",
    "    x_d = fd_t1\n",
    "    X_trans_d = x_d.transpose()\n",
    "    first_mult_d = multi_dot([X_trans_d, x_d])\n",
    "    inverse_d = 1/first_mult_d\n",
    "    \n",
    "    # -betahat = phi2\n",
    "    beta_hat = multi_dot([inverse_d,multi_dot([X_trans_d, y])]) \n",
    "    epsilon_hat = np.add(y,(-beta_hat)*fd_t1)\n",
    "    \n",
    "    for k in range(99):\n",
    "        \n",
    "        #epsilon star with two point\n",
    "        ran_exp = np.random.choice([1,-1],60)\n",
    "        epsilon_star = np.multiply(epsilon_hat, ran_exp)\n",
    "        \n",
    "        #y-star\n",
    "        y_star = [0,0]\n",
    "        for j in range(60):\n",
    "            y_t = (1+beta_hat)*(y_star[j+1]) + (-beta_hat)*(y_star[j]) + epsilon_star[j]\n",
    "            y_star.append(y_t)\n",
    "           \n",
    "        y = np.diff(y_star[1:],1)\n",
    "        fd_t1 = np.diff(y_star[0:-1],1).transpose()\n",
    "        x = np.column_stack((y_star[0:-2],fd_t1))\n",
    "        \n",
    "        X_trans = x.transpose()\n",
    "        first_mult = multi_dot([X_trans, x])\n",
    "        inverse = np.linalg.inv(first_mult)  \n",
    "        #beta_OLS\n",
    "        beta_OLS = multi_dot([inverse,multi_dot([X_trans, y])]) \n",
    "        \n",
    "        #epsilon_OLS & diagonal matrix\n",
    "        third_mult = multi_dot([x, beta_OLS])\n",
    "        epsilon_OLS = np.subtract(y, third_mult)\n",
    "        diag_matrix = np.diag(np.square(epsilon_OLS))\n",
    "        #var_beta_OLS\n",
    "        fourth_mult = multi_dot([X_trans, diag_matrix, x])\n",
    "        var_beta_OLS = multi_dot([inverse,fourth_mult,inverse])\n",
    "        \n",
    "        t_statistic = beta_OLS[0]/(math.sqrt(var_beta_OLS[0][0]))\n",
    "        t_stats2_wb2.append(t_statistic)\n",
    "        \n",
    "    value = check(t_stats2_wb2, test_statistic)\n",
    "    p_value = (value)/100\n",
    "    if(p_value <= 0.05):\n",
    "        probs2_wb2[i] = 1\n",
    "    \n",
    "        \n"
   ]
  },
  {
   "cell_type": "code",
   "execution_count": 346,
   "id": "1b32febd-afda-44e2-b08c-dd5a124ee845",
   "metadata": {},
   "outputs": [
    {
     "name": "stdout",
     "output_type": "stream",
     "text": [
      "Wild Bootstrap with Two Point Size:  0.697\n"
     ]
    }
   ],
   "source": [
    "print(\"Wild Bootstrap with Two Point Size: \",np.mean(probs2_wb2))"
   ]
  },
  {
   "cell_type": "markdown",
   "id": "b2fc06c3-526b-4884-8e3f-428cfea11f66",
   "metadata": {},
   "source": [
    "Block Bootstrap"
   ]
  },
  {
   "cell_type": "code",
   "execution_count": 355,
   "id": "1e4f3c21-c56e-4c4b-a053-724c18a30b54",
   "metadata": {},
   "outputs": [],
   "source": [
    "probs2_bb = np.zeros(1000)\n",
    "for i in range(1000):\n",
    "    \n",
    "    t_stats2_bb = []\n",
    "    \n",
    "    y = np.diff(X[i,1:],1)\n",
    "    fd_t1 = np.diff(X[i,0:-1],1).transpose()\n",
    "    x = np.column_stack((X[i,0:-2],fd_t1))\n",
    "    \n",
    "    X_trans = x.transpose()\n",
    "    first_mult = multi_dot([X_trans, x])\n",
    "    inverse = np.linalg.inv(first_mult)  \n",
    "    #beta_OLS\n",
    "    beta_OLS = multi_dot([inverse,multi_dot([X_trans, y])]) \n",
    "    \n",
    "    #epsilon_OLS & diagonal matrix\n",
    "    third_mult = multi_dot([x, beta_OLS])\n",
    "    epsilon_OLS = np.subtract(y, third_mult)\n",
    "    diag_matrix = np.diag(np.square(epsilon_OLS))\n",
    "    \n",
    "    #var_beta_OLS\n",
    "    fourth_mult = multi_dot([X_trans, diag_matrix, x])\n",
    "    var_beta_OLS = multi_dot([inverse,fourth_mult,inverse])\n",
    "    \n",
    "    test_statistic = beta_OLS[0]/(math.sqrt(var_beta_OLS[0][0]))\n",
    "    t_stats2_bb.append(test_statistic)\n",
    "    \n",
    "    #phi2 under the null (x contains just delta(t-1))\n",
    "    x_d = fd_t1\n",
    "    X_trans_d = x_d.transpose()\n",
    "    first_mult_d = multi_dot([X_trans_d, x_d])\n",
    "    inverse_d = 1/first_mult_d\n",
    "    \n",
    "    # -betahat = phi2\n",
    "    beta_hat = multi_dot([inverse_d,multi_dot([X_trans_d, y])]) \n",
    "    epsilon_hat = np.add(y,(-beta_hat)*fd_t1)\n",
    "    \n",
    "    for k in range(99):\n",
    "        #creating blocks B1,B2.....B41 (n-l+1)\n",
    "        blocks = np.empty([41,20], dtype=float)\n",
    "        for f in range(41):\n",
    "            block = epsilon_hat[f:f+20]\n",
    "            blocks[f] = block\n",
    "        \n",
    "        #EDF of blocks\n",
    "        random_indices = np.random.choice(41, size=3)\n",
    "        ran_exp = blocks[random_indices, :]\n",
    "        \n",
    "        #epsilon star\n",
    "        epsilon_star = np.concatenate((ran_exp[0],ran_exp[1],ran_exp[2]))\n",
    "        \n",
    "        #y-star\n",
    "        y_star = [0,0]\n",
    "        for j in range(60):\n",
    "            y_t = (1+beta_hat)*(y_star[j+1]) + (-beta_hat)*(y_star[j]) + epsilon_star[j]\n",
    "            y_star.append(y_t)\n",
    "           \n",
    "        y = np.diff(y_star[1:],1)\n",
    "        fd_t1 = np.diff(y_star[0:-1],1).transpose()\n",
    "        x = np.column_stack((y_star[0:-2],fd_t1))\n",
    "        \n",
    "        X_trans = x.transpose()\n",
    "        first_mult = multi_dot([X_trans, x])\n",
    "        inverse = np.linalg.inv(first_mult)  \n",
    "        #beta_OLS\n",
    "        beta_OLS = multi_dot([inverse,multi_dot([X_trans, y])]) \n",
    "        \n",
    "        #epsilon_OLS & diagonal matrix\n",
    "        third_mult = multi_dot([x, beta_OLS])\n",
    "        epsilon_OLS = np.subtract(y, third_mult)\n",
    "        diag_matrix = np.diag(np.square(epsilon_OLS))\n",
    "        #var_beta_OLS\n",
    "        fourth_mult = multi_dot([X_trans, diag_matrix, x])\n",
    "        var_beta_OLS = multi_dot([inverse,fourth_mult,inverse])\n",
    "        \n",
    "        t_statistic = beta_OLS[0]/(math.sqrt(var_beta_OLS[0][0]))\n",
    "        t_stats2_bb.append(t_statistic)\n",
    "        \n",
    "    value = check(t_stats2_bb, test_statistic)\n",
    "    p_value = (value)/100\n",
    "    if(p_value <= 0.05):\n",
    "        probs2_bb[i] = 1\n",
    "    \n",
    "        \n"
   ]
  },
  {
   "cell_type": "code",
   "execution_count": 356,
   "id": "f0984edd-47c5-4dc8-bbd9-06180ea60709",
   "metadata": {},
   "outputs": [
    {
     "name": "stdout",
     "output_type": "stream",
     "text": [
      "Block Bootstrap Size:  0.045\n"
     ]
    }
   ],
   "source": [
    "print(\"Block Bootstrap Size: \",np.mean(probs2_bb))"
   ]
  },
  {
   "cell_type": "markdown",
   "id": "86cb98f3-253f-4369-9a82-0769c0a2d3dd",
   "metadata": {},
   "source": [
    "Sieve Bootstrap"
   ]
  },
  {
   "cell_type": "code",
   "execution_count": 367,
   "id": "45e033fe-6883-4489-8ea6-1c5d4c53fe6f",
   "metadata": {},
   "outputs": [],
   "source": [
    "probs2_sb = np.zeros(1000)\n",
    "for i in range(1000):\n",
    "    \n",
    "    t_stats2_sb = []\n",
    "    \n",
    "    y = np.diff(X[i,1:],1)\n",
    "    fd_t1 = np.diff(X[i,0:-1],1).transpose()\n",
    "    x = np.column_stack((X[i,0:-2],fd_t1))\n",
    "    \n",
    "    X_trans = x.transpose()\n",
    "    first_mult = multi_dot([X_trans, x])\n",
    "    inverse = np.linalg.inv(first_mult)  \n",
    "    #beta_OLS\n",
    "    beta_OLS = multi_dot([inverse,multi_dot([X_trans, y])]) \n",
    "    \n",
    "    #epsilon_OLS & diagonal matrix\n",
    "    third_mult = multi_dot([x, beta_OLS])\n",
    "    epsilon_OLS = np.subtract(y, third_mult)\n",
    "    diag_matrix = np.diag(np.square(epsilon_OLS))\n",
    "    \n",
    "    #var_beta_OLS\n",
    "    fourth_mult = multi_dot([X_trans, diag_matrix, x])\n",
    "    var_beta_OLS = multi_dot([inverse,fourth_mult,inverse])\n",
    "    \n",
    "    test_statistic = beta_OLS[0]/(math.sqrt(var_beta_OLS[0][0]))\n",
    "    t_stats2_sb.append(test_statistic)\n",
    "    \n",
    "    #phi2 under the null (x contains just delta(t-1))\n",
    "    x_d = fd_t1\n",
    "    X_trans_d = x_d.transpose()\n",
    "    first_mult_d = multi_dot([X_trans_d, x_d])\n",
    "    inverse_d = 1/first_mult_d\n",
    "    \n",
    "    # -betahat = phi2\n",
    "    beta_hat = multi_dot([inverse_d,multi_dot([X_trans_d, y])]) \n",
    "    epsilon_hat = np.add(y,(-beta_hat)*fd_t1)\n",
    "    \n",
    "    #eta -> epsilon(t) = p(1)*epsilon(t-1) + p(2)*epsilon(t-2) + p(3)*epsilon(t-3) + p(4)*epsilon(t-4) + p(5)*epsilon(t-5) + eta(t) \n",
    "    epsilon_y = epsilon_hat[5:]\n",
    "    epsilon_x = np.empty([55,5], dtype=float)\n",
    "    for m in range(55):\n",
    "        x_line = []\n",
    "        for d in range(5):\n",
    "            x_line.append(epsilon_hat[m+d])\n",
    "        epsilon_x[m] = x_line\n",
    "        \n",
    "    #AR model to estimate eta\n",
    "    epsilon_x_trans = epsilon_x.transpose()\n",
    "    epsilon_first_mult = multi_dot([epsilon_x_trans, epsilon_x])\n",
    "    epsilon_inverse = np.linalg.inv(epsilon_first_mult)\n",
    "    \n",
    "    #p (coefficients of epsilon(t-1),(t-2)....)\n",
    "    epsilon_beta_OLS = multi_dot([epsilon_inverse,multi_dot([epsilon_x_trans, epsilon_y])]) \n",
    "    epsilon_third_mult = multi_dot([epsilon_x, epsilon_beta_OLS])\n",
    "    \n",
    "    #eta\n",
    "    eta = np.subtract(epsilon_y, epsilon_third_mult)\n",
    "    \n",
    "    for k in range(99):\n",
    "        \n",
    "        #EDF of eta (non-parametric)\n",
    "        eta_star = (np.subtract(np.random.choice(eta,55),np.mean(eta)))\n",
    "        #NID(0,var(eta)) -> parametric\n",
    "        eta_star2 = (np.random.normal(size = 55,scale=np.std(eta)))\n",
    "        \n",
    "        #epsilon star\n",
    "        epsilon_star = [epsilon_hat[0],epsilon_hat[1],epsilon_hat[2],epsilon_hat[3],epsilon_hat[4]]\n",
    "        for l in range(55):\n",
    "            last_five = [epsilon_star[l],epsilon_star[l+1],epsilon_star[l+2],epsilon_star[l+3],epsilon_star[l+4]]\n",
    "            epsilon_t = np.add(multi_dot([epsilon_beta_OLS,last_five]),eta_star[l])\n",
    "            epsilon_star.append(epsilon_t)\n",
    "            \n",
    "        #y-star\n",
    "        y_star = [0,0]\n",
    "        for j in range(60):\n",
    "            y_t = (1+beta_hat)*(y_star[j+1]) + (-beta_hat)*(y_star[j]) + epsilon_star[j]\n",
    "            y_star.append(y_t)\n",
    "           \n",
    "        y = np.diff(y_star[1:],1)\n",
    "        fd_t1 = np.diff(y_star[0:-1],1).transpose()\n",
    "        x = np.column_stack((y_star[0:-2],fd_t1))\n",
    "        \n",
    "        X_trans = x.transpose()\n",
    "        first_mult = multi_dot([X_trans, x])\n",
    "        inverse = np.linalg.inv(first_mult)  \n",
    "        #beta_OLS\n",
    "        beta_OLS = multi_dot([inverse,multi_dot([X_trans, y])]) \n",
    "        \n",
    "        #epsilon_OLS & diagonal matrix\n",
    "        third_mult = multi_dot([x, beta_OLS])\n",
    "        epsilon_OLS = np.subtract(y, third_mult)\n",
    "        diag_matrix = np.diag(np.square(epsilon_OLS))\n",
    "        #var_beta_OLS\n",
    "        fourth_mult = multi_dot([X_trans, diag_matrix, x])\n",
    "        var_beta_OLS = multi_dot([inverse,fourth_mult,inverse])\n",
    "        \n",
    "        t_statistic = beta_OLS[0]/(math.sqrt(var_beta_OLS[0][0]))\n",
    "        t_stats2_sb.append(t_statistic)\n",
    "        \n",
    "    value = check(t_stats2_sb, test_statistic)\n",
    "    p_value = (value)/100\n",
    "    if(p_value <= 0.05):\n",
    "        probs2_sb[i] = 1\n",
    "    \n",
    "        \n"
   ]
  },
  {
   "cell_type": "code",
   "execution_count": 368,
   "id": "7fa76c8a-136f-493b-8cd6-fca158ebe2df",
   "metadata": {},
   "outputs": [
    {
     "name": "stdout",
     "output_type": "stream",
     "text": [
      "Sieve Bootstrap Size:  0.036\n"
     ]
    }
   ],
   "source": [
    "print(\"Sieve Bootstrap Size: \",np.mean(probs2_sb))"
   ]
  }
 ],
 "metadata": {
  "kernelspec": {
   "display_name": "Python 3",
   "language": "python",
   "name": "python3"
  },
  "language_info": {
   "codemirror_mode": {
    "name": "ipython",
    "version": 3
   },
   "file_extension": ".py",
   "mimetype": "text/x-python",
   "name": "python",
   "nbconvert_exporter": "python",
   "pygments_lexer": "ipython3",
   "version": "3.8.8"
  }
 },
 "nbformat": 4,
 "nbformat_minor": 5
}
