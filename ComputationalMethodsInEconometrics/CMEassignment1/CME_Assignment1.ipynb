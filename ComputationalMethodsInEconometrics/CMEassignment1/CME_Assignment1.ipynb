{
 "cells": [
  {
   "cell_type": "code",
   "execution_count": 256,
   "metadata": {
    "id": "irw6CNLATE9U"
   },
   "outputs": [],
   "source": [
    "import numpy as np\n",
    "import matplotlib.pyplot as plt\n",
    "import pandas as pd\n",
    "import statsmodels.api as sm\n",
    "import seaborn as sns\n",
    "from numpy.linalg import multi_dot\n",
    "from scipy.stats import expon\n"
   ]
  },
  {
   "cell_type": "code",
   "execution_count": 257,
   "metadata": {
    "id": "4Wd298hKbjGW"
   },
   "outputs": [
    {
     "data": {
      "text/plain": [
       "<bound method NDFrame.head of     0         1        2        3         4        5         6         7  \\\n",
       "0   1 -0.637280 -2.53690  1.00570  1.835800  0.74296 -0.900550 -0.385430   \n",
       "1   1  0.329080 -0.87360  1.51210 -0.723570  0.49154  0.862480 -0.053105   \n",
       "2   1  0.369910 -1.05260 -0.76142 -0.893250 -0.21182 -0.064187 -0.133520   \n",
       "3   1 -0.536420  1.20020  0.31715 -1.025000 -0.29137 -1.168800  0.010371   \n",
       "4   1  0.750650 -0.23990 -0.48102 -0.015687  0.84527 -0.965980 -0.795350   \n",
       ".. ..       ...      ...      ...       ...      ...       ...       ...   \n",
       "95  1  0.778860 -0.77748  0.35712 -1.197800 -0.35897 -1.420100  0.853770   \n",
       "96  1 -0.735240 -1.16190 -1.21380  0.904510  0.24747 -1.406300 -1.143000   \n",
       "97  1 -0.974290  1.54520 -0.12210  0.786480  2.66050  0.915620 -1.017000   \n",
       "98  1 -0.018074 -1.40830  0.87636 -0.897840 -0.91976  0.754050  0.013707   \n",
       "99  1  1.663100 -0.26624  0.07666 -0.966130 -3.03220 -0.145520  0.448210   \n",
       "\n",
       "          8  \n",
       "0  -1.01310  \n",
       "1   1.00120  \n",
       "2   0.62344  \n",
       "3  -0.55335  \n",
       "4   0.65267  \n",
       "..      ...  \n",
       "95  0.42224  \n",
       "96 -1.37200  \n",
       "97  0.96036  \n",
       "98 -0.62020  \n",
       "99 -0.51953  \n",
       "\n",
       "[100 rows x 9 columns]>"
      ]
     },
     "execution_count": 257,
     "metadata": {},
     "output_type": "execute_result"
    }
   ],
   "source": [
    "#Reading Regressors.txt\n",
    "df = pd.read_csv(\"Regressors.txt\", header = None)\n",
    "df.head"
   ]
  },
  {
   "cell_type": "code",
   "execution_count": 258,
   "metadata": {
    "id": "nC9IllrlkJFt"
   },
   "outputs": [],
   "source": [
    "#(I-X(X'X)^-1-X')y\n",
    "m = np.array(df)\n",
    "m_trans = m.transpose()\n",
    "first_mult = multi_dot([m_trans, m])\n",
    "inverse = np.linalg.inv(first_mult) \n",
    "sec_mult = multi_dot([m, inverse, m_trans])\n",
    "sec_mult.shape\n",
    "identity_matrix = np.identity(100)\n",
    "identity_matrix\n",
    "sub =np.subtract(identity_matrix, sec_mult)"
   ]
  },
  {
   "cell_type": "code",
   "execution_count": 259,
   "metadata": {
    "id": "dKGRN-EudtwB",
    "tags": []
   },
   "outputs": [
    {
     "data": {
      "text/plain": [
       "array([[-0.19485222],\n",
       "       [ 1.72042305],\n",
       "       [ 2.63451544],\n",
       "       [-0.80304088],\n",
       "       [-0.29226681]])"
      ]
     },
     "execution_count": 259,
     "metadata": {},
     "output_type": "execute_result"
    }
   ],
   "source": [
    "#Reading Observables.txt\n",
    "df_y = pd.read_csv(\"Observables.txt\", header = None)\n",
    "df_y.head\n",
    "y_array = np.array(df_y)\n",
    "epsilon = multi_dot([sub, y_array])\n",
    "epsilon[0:5]"
   ]
  },
  {
   "cell_type": "code",
   "execution_count": 260,
   "metadata": {
    "id": "00COwHumBJP2"
   },
   "outputs": [
    {
     "data": {
      "text/plain": [
       "array([192.91561707])"
      ]
     },
     "execution_count": 260,
     "metadata": {},
     "output_type": "execute_result"
    }
   ],
   "source": [
    "# (e(t) - e(t-1))^2\n",
    "eps_diff = np.diff(epsilon, n=1, axis=0,)\n",
    "eps_sqr = np.square(eps_diff)\n",
    "sum1 = np.sum(eps_sqr, axis=0)\n",
    "sum1\n"
   ]
  },
  {
   "cell_type": "code",
   "execution_count": 261,
   "metadata": {
    "id": "GMAwVha1qHjI"
   },
   "outputs": [
    {
     "data": {
      "text/plain": [
       "107.72268508774314"
      ]
     },
     "execution_count": 261,
     "metadata": {},
     "output_type": "execute_result"
    }
   ],
   "source": [
    "eps_den = np.square(epsilon[:-1])\n",
    "sum2 = np.sum(eps_den)\n",
    "sum2"
   ]
  },
  {
   "cell_type": "code",
   "execution_count": 262,
   "metadata": {
    "id": "dcpaV6GOx2v-"
   },
   "outputs": [],
   "source": [
    "test_statistic = list(sum1/sum2)\n",
    "test_statistic"
   ]
  },
  {
   "cell_type": "code",
   "execution_count": 263,
   "metadata": {
    "id": "KG3h6JNMNdoZ"
   },
   "outputs": [],
   "source": [
    "#Monte Carlo Test\n",
    "list_tstats = [test_statistic[0]]\n",
    "for n in range(9999):\n",
    "  #I made it 100 instead of 1000 because our sample size 100 (100 data points) and the size affects the measurement Durbin-Watson statistics, now results make sense\n",
    "  ran_exp = np.random.standard_normal(size = 100)\n",
    "  eps_diff = np.diff(ran_exp, n=1, axis=0,)\n",
    "  eps_sqr1 = np.square(eps_diff)\n",
    "  ep_sqr = np.square(ran_exp)\n",
    "  suma = np.sum(eps_sqr1)\n",
    "  sumb = np.sum(ep_sqr)\n",
    "  t_stat = suma/sumb\n",
    "  list_tstats.append(t_stat)\n",
    "\n",
    "\n"
   ]
  },
  {
   "cell_type": "code",
   "execution_count": 264,
   "metadata": {
    "id": "tdpk-UKclApe"
   },
   "outputs": [
    {
     "data": {
      "text/plain": [
       "[2.6082145286992557,\n",
       " 2.609668602127921,\n",
       " 2.615764475486671,\n",
       " 2.6520684731700372,\n",
       " 2.661647853319753]"
      ]
     },
     "execution_count": 264,
     "metadata": {},
     "output_type": "execute_result"
    }
   ],
   "source": [
    "#rank the simulated data\n",
    "list_tstats.sort()\n",
    "list_tstats[0:5]\n",
    "list_tstats[-5:]"
   ]
  },
  {
   "cell_type": "code",
   "execution_count": 265,
   "metadata": {
    "id": "cH0uG2StNY6D"
   },
   "outputs": [],
   "source": [
    "k1 = int((9999+1)*(0.1/2) + 1)\n",
    "k2 = int((1-0.1/2)*(9999+1))"
   ]
  },
  {
   "cell_type": "code",
   "execution_count": 266,
   "metadata": {
    "id": "GnWyMeZXO03M"
   },
   "outputs": [],
   "source": [
    "rej_c1 = list_tstats[k1-1]"
   ]
  },
  {
   "cell_type": "code",
   "execution_count": 267,
   "metadata": {
    "id": "Gt7N470kQHrp"
   },
   "outputs": [
    {
     "data": {
      "text/plain": [
       "2.30469562736815"
      ]
     },
     "execution_count": 267,
     "metadata": {},
     "output_type": "execute_result"
    }
   ],
   "source": [
    "rej_c2 = list_tstats[k2-1]\n",
    "rej_c2"
   ]
  },
  {
   "cell_type": "code",
   "execution_count": 268,
   "metadata": {},
   "outputs": [
    {
     "name": "stdout",
     "output_type": "stream",
     "text": [
      "1.6558715780809066   2.30469562736815\n",
      "[1.7908541447664765]\n"
     ]
    }
   ],
   "source": [
    "print(rej_c1,\" \",rej_c2)\n",
    "print(test_statistic)"
   ]
  },
  {
   "cell_type": "code",
   "execution_count": 269,
   "metadata": {
    "id": "-qjfItoSSNIw"
   },
   "outputs": [],
   "source": [
    "def check(list, val):\n",
    "  num = 0\n",
    "  for n in list:\n",
    "    if n <= val:\n",
    "      num = num+1\n",
    "    else:\n",
    "      num = num\n",
    "  return num\n"
   ]
  },
  {
   "cell_type": "code",
   "execution_count": 270,
   "metadata": {
    "colab": {
     "base_uri": "https://localhost:8080/"
    },
    "id": "SK7duSt_RCdv",
    "outputId": "33f62d24-bbd8-435c-c6b0-6cd79b776e89"
   },
   "outputs": [
    {
     "data": {
      "text/plain": [
       "1663"
      ]
     },
     "execution_count": 270,
     "metadata": {},
     "output_type": "execute_result"
    }
   ],
   "source": [
    "value = check(list_tstats, test_statistic[0])\n",
    "value"
   ]
  },
  {
   "cell_type": "code",
   "execution_count": 271,
   "metadata": {
    "id": "DPpvaSthUMoO"
   },
   "outputs": [],
   "source": [
    "def check2(list, val):\n",
    "  num = 0\n",
    "  for n in list:\n",
    "    if n >= val:\n",
    "      num = num+1\n",
    "    else:\n",
    "      num = num\n",
    "  return num"
   ]
  },
  {
   "cell_type": "code",
   "execution_count": 272,
   "metadata": {
    "id": "nmXH8nzvYa6u"
   },
   "outputs": [
    {
     "data": {
      "text/plain": [
       "8338"
      ]
     },
     "execution_count": 272,
     "metadata": {},
     "output_type": "execute_result"
    }
   ],
   "source": [
    "value2 = check2(list_tstats, test_statistic[0])\n",
    "value2"
   ]
  },
  {
   "cell_type": "code",
   "execution_count": 273,
   "metadata": {
    "id": "4DdZMa7kYipK"
   },
   "outputs": [
    {
     "data": {
      "text/plain": [
       "0.3326"
      ]
     },
     "execution_count": 273,
     "metadata": {},
     "output_type": "execute_result"
    }
   ],
   "source": [
    "#Both denominators must be 10000\n",
    "p_value = 2 *min([value/10000, value2/10000])\n",
    "p_value"
   ]
  },
  {
   "cell_type": "markdown",
   "metadata": {
    "id": "YkeUEcO6ZVm-"
   },
   "source": [
    "## Part C"
   ]
  },
  {
   "cell_type": "code",
   "execution_count": 274,
   "metadata": {
    "tags": []
   },
   "outputs": [
    {
     "data": {
      "text/plain": [
       "<bound method NDFrame.head of         0        1         2         3        4        5        6     \\\n",
       "0  -0.627920 -0.24685  0.257740 -1.660900 -0.47635 -1.11590 -2.08230   \n",
       "1   1.387200  0.58790 -1.174900  0.136790 -1.84960 -0.59578 -0.26431   \n",
       "2   2.201100 -0.43099 -0.026149  0.443790  1.19560  0.42235 -0.30351   \n",
       "3  -1.193200  1.24200  0.258260  1.487800  0.69618 -1.04460 -0.64679   \n",
       "4  -0.749890  1.76020 -0.442110 -1.684500  0.13206 -1.10050 -2.18150   \n",
       "..       ...      ...       ...       ...      ...      ...      ...   \n",
       "95  0.315540  0.67422  0.644480 -1.099900 -0.33078 -0.83251  2.63650   \n",
       "96 -0.995970  0.23935 -2.097400  0.030075 -0.27806 -0.27771  0.29327   \n",
       "97 -1.478100 -0.63553 -1.098500 -2.518100 -0.78057 -0.64211 -0.35635   \n",
       "98  0.541580  1.41560 -0.179180 -1.420500 -0.29322 -1.21950  0.22336   \n",
       "99  0.060733 -1.90280 -0.464730 -1.552300 -1.33480 -1.31340  0.95880   \n",
       "\n",
       "        7        8         9     ...      9990     9991     9992      9993  \\\n",
       "0  -1.808000  1.17990 -1.119600  ... -0.574400 -0.65947  1.61390 -0.897910   \n",
       "1   1.077100  1.01380  0.482200  ...  0.661720 -1.48890  0.40876  0.157520   \n",
       "2  -1.132600  0.22418  0.499660  ... -0.037405  0.77088 -1.06980  2.186100   \n",
       "3  -1.429400 -0.11541 -1.071900  ... -1.433600  0.18135  0.51026  0.086533   \n",
       "4  -0.654050 -0.97755 -0.497210  ... -0.279060 -0.66515  0.21881 -0.388650   \n",
       "..       ...      ...       ...  ...       ...      ...      ...       ...   \n",
       "95  1.981600  2.05000  1.651300  ...  1.373300  0.58126  0.82994 -0.126980   \n",
       "96 -1.676900 -2.64850 -0.618110  ... -1.542400  0.12507 -1.41900 -1.850700   \n",
       "97  0.114820 -0.72529 -2.124600  ... -0.735930 -1.57280 -0.91412 -0.706120   \n",
       "98  0.237600 -0.76640 -0.024119  ... -0.524660 -0.37209 -0.66993 -0.659780   \n",
       "99  0.001285  0.41086 -1.435700  ... -0.685200 -0.59283 -1.43670 -0.598390   \n",
       "\n",
       "        9994      9995      9996      9997     9998      9999  \n",
       "0  -0.526260 -1.364900 -1.274500 -2.260300 -0.91631 -0.303750  \n",
       "1  -1.187700 -0.917310 -1.830700 -0.062291 -0.70922  0.787200  \n",
       "2   1.027600  0.972150  0.804750 -0.799210  0.77229  1.481000  \n",
       "3  -1.375400 -1.145500 -2.642300 -0.384730  0.77222 -0.008419  \n",
       "4  -1.328400  0.282580  0.021629 -2.858200 -1.91630 -0.943880  \n",
       "..       ...       ...       ...       ...      ...       ...  \n",
       "95  1.165800  1.947200 -0.224910 -0.451380  1.10780  2.671800  \n",
       "96 -0.834430 -3.189700 -3.134100 -2.590900 -1.88620 -0.702320  \n",
       "97 -1.322200  0.636090 -0.376030 -1.142400 -0.25539 -2.716800  \n",
       "98  0.763200  1.337500 -0.705810 -0.627130  0.28404  0.457240  \n",
       "99 -0.039043  0.049233  1.557600 -1.354600 -0.23084  0.396540  \n",
       "\n",
       "[100 rows x 10000 columns]>"
      ]
     },
     "execution_count": 274,
     "metadata": {},
     "output_type": "execute_result"
    }
   ],
   "source": [
    "#Reading True_null.txt\n",
    "df_tn = pd.read_csv(\"True_null.txt\", header = None)\n",
    "df_tn.head"
   ]
  },
  {
   "cell_type": "code",
   "execution_count": 275,
   "metadata": {},
   "outputs": [],
   "source": [
    "def pval(list,val,size):\n",
    "    return  2*min([check(list,val)/size+1, check2(list,val)/size+1])\n",
    "    \n",
    "probs = np.zeros(10000)\n",
    "\n",
    "#Old Solution\n",
    "\n",
    "#size = 99\n",
    "#\n",
    "#for i in range(10000):   \n",
    "#    y_array = np.array(df_tn[i])\n",
    "#    epsilon = multi_dot([sub, y_array])\n",
    "#    eps_diff = np.diff(epsilon, n=1, axis=0,)\n",
    "#    eps_sqr = np.square(eps_diff)\n",
    "#    sum1 = np.sum(eps_sqr, axis=0)\n",
    "#    eps_den = np.square(epsilon)\n",
    "#    sum2 = np.sum(eps_den)\n",
    "#    test_statistic = sum1/sum2\n",
    "#    list_tstats = [test_statistic]\n",
    "#    \n",
    "#    for n in range(size):\n",
    "#        ran_exp = np.random.standard_normal(size = 100)\n",
    "#        eps_diff = np.diff(ran_exp, n=1, axis=0,)\n",
    "#        eps_sqr1 = np.square(eps_diff)\n",
    "#        ep_sqr = np.square(ran_exp)\n",
    "#        suma = np.sum(eps_sqr1)\n",
    "#        sumb = np.sum(ep_sqr)\n",
    "#        t_stat = suma/sumb\n",
    "#        list_tstats.append(t_stat)\n",
    "#        \n",
    "#    k1 = int((size+1)*(0.1/2) + 1)\n",
    "#    k2 = int((1-0.1/2)*(size+1))\n",
    "#    rej_c1 = list_tstats[k1-1]\n",
    "#    rej_c2 = list_tstats[k2-1]\n",
    "#    \n",
    "#    if (test_statistic<rej_c1 or test_statistic>rej_c2):\n",
    "#        probs[i] = 1\n",
    "        \n",
    "        \n",
    "    \n",
    "\n",
    "\n",
    "\n",
    "#New Solution\n",
    "\n",
    "#Rejection check for N columns \n",
    "for i in range(10000):\n",
    "    y_array = np.array(df_tn[i])\n",
    "    epsilon = multi_dot([sub, y_array])\n",
    "    \n",
    "    eps_diff = np.diff(epsilon, n=1, axis=0,)\n",
    "    eps_sqr = np.square(eps_diff)\n",
    "    sum1 = np.sum(eps_sqr, axis=0)\n",
    "    \n",
    "    eps_den = np.square(epsilon)\n",
    "    sum2 = np.sum(eps_den)\n",
    "    \n",
    "    test_statistic = sum1/sum2\n",
    "    if(test_statistic<rej_c1 or test_statistic>rej_c2):\n",
    "        probs[i] = 1\n",
    "    \n",
    "\n",
    "\n",
    "#Probability of rejection\n",
    "alpha = np.mean(probs)\n",
    "    "
   ]
  },
  {
   "cell_type": "code",
   "execution_count": 276,
   "metadata": {},
   "outputs": [
    {
     "name": "stdout",
     "output_type": "stream",
     "text": [
      "0.0975\n"
     ]
    }
   ],
   "source": [
    "print(alpha) "
   ]
  },
  {
   "cell_type": "markdown",
   "metadata": {
    "id": "YkeUEcO6ZVm-"
   },
   "source": [
    "## Part E"
   ]
  },
  {
   "cell_type": "code",
   "execution_count": 277,
   "metadata": {},
   "outputs": [
    {
     "data": {
      "text/plain": [
       "<bound method NDFrame.head of         0        1        2        3        4        5        6         7     \\\n",
       "0  -0.712300 -0.33122  0.17336 -1.74520 -0.56072 -1.20030 -2.16660 -1.892400   \n",
       "1   1.244700  0.52166 -1.14020 -0.21226 -1.96170 -0.83584 -0.69764  0.698640   \n",
       "2   2.450000 -0.32665 -0.25420  0.40134  0.80325  0.25519 -0.44303 -0.992860   \n",
       "3  -0.703170  1.17660  0.20742  1.56810  0.85683 -0.99354 -0.73540 -1.628000   \n",
       "4  -0.890530  1.99550 -0.40062 -1.37080  0.30343 -1.29920 -2.32860 -0.979650   \n",
       "..       ...      ...      ...      ...      ...      ...      ...       ...   \n",
       "95 -0.062718  0.51397  0.41479 -1.22140 -0.40434 -1.10830  2.56590  1.921100   \n",
       "96 -1.008500  0.34215 -2.01440 -0.21421 -0.35893 -0.49937  0.80645 -1.292700   \n",
       "97 -1.679800 -0.56710 -1.50140 -2.56090 -0.85235 -0.74198 -0.19506 -0.143720   \n",
       "98  0.205610  1.30220 -0.47946 -1.93270 -0.46369 -1.36790  0.18435  0.208850   \n",
       "99  0.101860 -1.64230 -0.56062 -1.93880 -1.42750 -1.58700  0.99567  0.043056   \n",
       "\n",
       "        8        9     ...      9990      9991     9992      9993      9994  \\\n",
       "0   1.095500 -1.20400  ... -0.658780 -0.743840  1.52950 -0.982290 -0.610630   \n",
       "1   1.232900  0.24141  ...  0.529960 -1.637600  0.71467 -0.038935 -1.309800   \n",
       "2   0.470760  0.54794  ...  0.068588  0.443350 -0.92684  2.178300  0.765660   \n",
       "3  -0.021262 -0.96234  ... -1.419900  0.270020  0.32490  0.522190 -1.222200   \n",
       "4  -0.981800 -0.68968  ... -0.563040 -0.611140  0.28379 -0.284220 -1.572800   \n",
       "..       ...      ...  ...       ...       ...      ...       ...       ...   \n",
       "95  1.722100  1.66270  ...  1.296900 -0.007728  1.10180 -0.613990  1.058200   \n",
       "96 -2.304100 -0.28558  ... -1.283100  0.123520 -1.19860 -1.973500 -0.622790   \n",
       "97 -1.186100 -2.18170  ... -0.992540 -1.548100 -1.15380 -1.100800 -1.446700   \n",
       "98 -1.003600 -0.46046  ... -0.723170 -0.681710 -0.90070 -0.879950  0.473850   \n",
       "99  0.210140 -1.52780  ... -0.829840 -0.729170 -1.61680 -0.774380  0.055728   \n",
       "\n",
       "        9995     9996     9997     9998      9999  \n",
       "0  -1.449300 -1.35880 -2.34460 -1.00070 -0.388120  \n",
       "1  -1.207200 -2.10250 -0.53122 -0.90936  0.709570  \n",
       "2   0.730710  0.38425 -0.90545  0.59042  1.622900  \n",
       "3  -0.999360 -2.56550 -0.56582  0.89030  0.316160  \n",
       "4   0.082709 -0.49146 -2.97140 -1.73820 -0.880650  \n",
       "..       ...      ...      ...      ...       ...  \n",
       "95  1.952000 -0.17607 -0.59603  0.84981  2.639000  \n",
       "96 -2.799300 -3.16940 -2.71010 -1.71630 -0.174510  \n",
       "97  0.076237 -1.00990 -1.68450 -0.59865 -2.751700  \n",
       "98  1.352800 -0.90779 -0.96402  0.16431 -0.093105  \n",
       "99  0.319790  1.37600 -1.54740 -0.19798  0.377920  \n",
       "\n",
       "[100 rows x 10000 columns]>"
      ]
     },
     "execution_count": 277,
     "metadata": {},
     "output_type": "execute_result"
    }
   ],
   "source": [
    "df_fn = pd.read_csv(\"False_null.txt\", header = None)\n",
    "df_fn.head\n"
   ]
  },
  {
   "cell_type": "code",
   "execution_count": 278,
   "metadata": {},
   "outputs": [],
   "source": [
    "probs = np.zeros(10000)\n",
    "true_coverage = np.zeros(10000)\n",
    "\n",
    "\n",
    "#Old Solution\n",
    "\n",
    "#size = 99\n",
    "#\n",
    "#for i in range(10000):   \n",
    "#    y_array = np.array(df_fn[i])\n",
    "#    epsilon = multi_dot([sub, y_array])\n",
    "#    eps_diff = np.diff(epsilon, n=1, axis=0,)\n",
    "#    eps_sqr = np.square(eps_diff)\n",
    "#    sum1 = np.sum(eps_sqr, axis=0)\n",
    "#    eps_den = np.square(epsilon)\n",
    "#    sum2 = np.sum(eps_den)\n",
    "#    test_statistic = sum1/sum2\n",
    "#    list_tstats = [test_statistic]\n",
    "#    \n",
    "#    for n in range(size):\n",
    "#        ran_exp = np.random.standard_normal(size = 100)\n",
    "#        eps_diff = np.diff(ran_exp, n=1, axis=0,)\n",
    "#        eps_sqr1 = np.square(eps_diff)\n",
    "#        ep_sqr = np.square(ran_exp)\n",
    "#        suma = np.sum(eps_sqr1)\n",
    "#        sumb = np.sum(ep_sqr)\n",
    "#        t_stat = suma/sumb\n",
    "#        list_tstats.append(t_stat)\n",
    "#        \n",
    "#    k1 = int((size+1)*(0.1/2) + 1)\n",
    "#    k2 = int((1-0.1/2)*(size+1))\n",
    "#    rej_c1 = list_tstats[k1-1]\n",
    "#    rej_c2 = list_tstats[k2-1]\n",
    "#    \n",
    "#    if (1-rej_c2/2 <= 0.2 and 0.2 <=1-rej_c1/2):\n",
    "#        true_coverage[i] = 1\n",
    "#    if (test_statistic>rej_c1 and test_statistic<rej_c2):\n",
    "#        probs[i] = 1\n",
    "\n",
    "\n",
    "#New Solution\n",
    "\n",
    "#Coverage and Rejection check for N columns\n",
    "for i in range(10000):\n",
    "    y_array = np.array(df_fn[i])\n",
    "    epsilon = multi_dot([sub, y_array])\n",
    "    \n",
    "    eps_diff = np.diff(epsilon, n=1, axis=0,)\n",
    "    eps_sqr = np.square(eps_diff)\n",
    "    sum1 = np.sum(eps_sqr, axis=0)\n",
    "    \n",
    "    eps_den = np.square(epsilon)\n",
    "    sum2 = np.sum(eps_den)\n",
    "    \n",
    "    test_statistic = sum1/sum2\n",
    "    probs[i] = (test_statistic >= rej_c1 and test_statistic <= rej_c2)\n",
    "    true_coverage[i] = (1-rej_c2/2 <= 1-test_statistic/2 and 1-test_statistic/2  <=1-rej_c1/2)\n",
    "    \n",
    "    \n",
    "\n",
    "#type-2 error, (not rejecting null while it is false)\n",
    "beta = np.mean(probs)\n"
   ]
  },
  {
   "cell_type": "code",
   "execution_count": 279,
   "metadata": {},
   "outputs": [
    {
     "name": "stdout",
     "output_type": "stream",
     "text": [
      "0.5217\n",
      "0.4783\n"
     ]
    }
   ],
   "source": [
    "# power of the test = (1 - beta)\n",
    "print(1-beta)\n",
    "print(np.mean(true_coverage))\n"
   ]
  }
 ],
 "metadata": {
  "colab": {
   "name": "ComputationalMethods1.ipynb",
   "provenance": []
  },
  "kernelspec": {
   "display_name": "Python 3",
   "language": "python",
   "name": "python3"
  },
  "language_info": {
   "codemirror_mode": {
    "name": "ipython",
    "version": 3
   },
   "file_extension": ".py",
   "mimetype": "text/x-python",
   "name": "python",
   "nbconvert_exporter": "python",
   "pygments_lexer": "ipython3",
   "version": "3.8.8"
  }
 },
 "nbformat": 4,
 "nbformat_minor": 4
}
